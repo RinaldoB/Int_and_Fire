{
 "cells": [
  {
   "cell_type": "code",
   "execution_count": 42,
   "metadata": {
    "collapsed": true
   },
   "outputs": [],
   "source": [
    "%matplotlib inline\n",
    "import numpy as np\n",
    "import matplotlib.pyplot as plt\n",
    "import seaborn as sns\n",
    "import cPickle as pickle\n",
    "import gzip \n",
    "from pylab import *\n",
    "from __future__ import division"
   ]
  },
  {
   "cell_type": "markdown",
   "metadata": {},
   "source": [
    "###  Load data"
   ]
  },
  {
   "cell_type": "code",
   "execution_count": 43,
   "metadata": {
    "collapsed": true
   },
   "outputs": [],
   "source": [
    "# Load a list of neuron data\n",
    "PN_data = pickle.load(gzip.open('Data/PNdata.pklz'))\n",
    "pulse_labelsPN = pickle.load(gzip.open('Data/pulselabelsPN.pklz','rb'))\n",
    "number_of_datasetsPN = 5\n",
    "\n",
    "LN_data = pickle.load(gzip.open('Data/LNdata.pklz','rb'))\n",
    "pulse_labelsLN = pickle.load(gzip.open('Data/pulselabelsLN.pklz','rb'))\n",
    "number_of_datasetsLN = 8\n",
    "\n",
    "# Load the holfing currents for LNs \n",
    "holding_currents = array([34,-66,-110,20,-120,-86,-52,-104])"
   ]
  },
  {
   "cell_type": "markdown",
   "metadata": {},
   "source": [
    "#### Important Parameters"
   ]
  },
  {
   "cell_type": "code",
   "execution_count": 44,
   "metadata": {
    "collapsed": true
   },
   "outputs": [],
   "source": [
    "f_s = 20000 #sampling frequency (Hz)\n",
    "dt = 1/float(f_s)\n",
    "\n",
    "\n",
    "stim_start_PN = 3 #seconds\n",
    "stim_end_PN   = 8 #seconds\n",
    "sweep_length_PN = 11 #seconds\n",
    "\n",
    "idx_stim_start_PN = int(stim_start_PN/dt)\n",
    "idx_stim_end_PN =   int(stim_end_PN/dt)\n",
    "\n",
    "sweep_length_LN = 8 #seconds\n",
    "stim_start_LN = 1 #seconds\n",
    "stim_end_LN   = 5 #seconds\n",
    "time_LN = linspace(0,sweep_length_LN,sweep_length_LN*f_s)\n",
    "\n",
    "idx_stim_start_LN = int(stim_start_LN/dt)\n",
    "idx_stim_end_LN =   int(stim_end_LN/dt)"
   ]
  },
  {
   "cell_type": "markdown",
   "metadata": {},
   "source": [
    "### Select 'Good' Neurons\n",
    "\n",
    "The reasons as to why these neurons were chosen are explored below"
   ]
  },
  {
   "cell_type": "markdown",
   "metadata": {},
   "source": [
    "#### LNs, with a no-stim sweep and a subthreshold sweep : \n"
   ]
  },
  {
   "cell_type": "code",
   "execution_count": 104,
   "metadata": {
    "collapsed": true
   },
   "outputs": [],
   "source": [
    "# 1st, 6th, 7th\n",
    "\n",
    "LN_data_sel = [LN_data[nidx] for nidx in (0,5,6)]\n",
    "LN_data_sel = array(LN_data_sel)"
   ]
  },
  {
   "cell_type": "markdown",
   "metadata": {},
   "source": [
    "#### PNs, subthreshold sweep :"
   ]
  },
  {
   "cell_type": "code",
   "execution_count": 111,
   "metadata": {
    "collapsed": true
   },
   "outputs": [],
   "source": [
    "# 2nd, 3rd, 4th\n",
    "\n",
    "PN_data_sel = [PN_data[nidx] for nidx in (2,3,4)]\n",
    "PN_data_sel = array(PN_data_sel)"
   ]
  },
  {
   "cell_type": "code",
   "execution_count": 106,
   "metadata": {
    "collapsed": false
   },
   "outputs": [
    {
     "name": "stdout",
     "output_type": "stream",
     "text": [
      "(#of sweeps, #number of datapoints)\n",
      "data for PNs\n",
      "(8, 220000)\n",
      "(5, 220000)\n",
      "(7, 220000)\n",
      "(8, 220000)\n",
      "(5, 220000)\n",
      "data for LNs\n",
      "(11, 160000)\n",
      "(15, 160000)\n",
      "(18, 160000)\n",
      "(20, 160000)\n",
      "(8, 160000)\n",
      "(12, 160000)\n",
      "(9, 160000)\n",
      "(10, 160000)\n"
     ]
    }
   ],
   "source": [
    "# Data Structure\n",
    "# print the data for the first PN (array: sweeps x time samples)\n",
    "PN_data[0].shape\n",
    "\n",
    "print '(#of sweeps,','#number of datapoints)'\n",
    "print 'data for PNs'\n",
    "for data in PN_data:\n",
    "    print data.shape\n",
    "    \n",
    "print 'data for LNs'   \n",
    "for data in LN_data:\n",
    "    print data.shape"
   ]
  },
  {
   "cell_type": "markdown",
   "metadata": {},
   "source": [
    "# Contents "
   ]
  },
  {
   "cell_type": "markdown",
   "metadata": {},
   "source": [
    "- [leak potential](#Leak-Potential-$E_l$)\n",
    "- [threshold potential](#Threshold-Potential-$V_{th}$)\n",
    "- [time constant](#Time-Constant-$\\tau_m$)\n",
    "- [membrane resistance](#Membrane-Resistance-$R_m$)\n",
    "- [membrane capacitance](#Membrane-Capacitance-$C_m$)\n",
    "- [leak potential and holding current](#Leak-Potential-$E_l$-&-Holding-Current)\n",
    "- [Single Neuron Model](#Single-Neuron-Model)"
   ]
  },
  {
   "cell_type": "markdown",
   "metadata": {},
   "source": [
    "### Leaky Integrate and Fire Model (LIF)"
   ]
  },
  {
   "cell_type": "markdown",
   "metadata": {},
   "source": [
    "The leaky integrate and fire model consists of a 1st order inhomogenous differential equation and a fire & reset rule. $$C_m\\frac{dV_m}{dt} = g_l(E_l - V_m) $$\n",
    "\n",
    "1. $C_m$ : membrane capacitance\n",
    "2. $V_m$ : membrane potential\n",
    "3. $g_l$ : membrane conductance ($1/R_m$ - membrane resistance)\n",
    "4. $E_l$ : leak potential (i.e. potential when membrane is at rest)\n",
    "\n",
    "\n",
    "When the membrane voltage exceeds a certain threshold, $V_{th}$, we observe a spike followed by a reset of membrane potential to the reset potential $V_{res}$, followed by a refractory period in which a spike cannot be observed.\n",
    "\n",
    "This allows us to rewrite our differential equation as.\n",
    "\n",
    "$$  \n",
    "    \\frac{dV_m}{dt}=\\left\\{\n",
    "                \\begin{array}{ll}\n",
    "                  \\frac{1}{\\tau_m} (-V_m + IR_m), t>t_{rest}\\\\\n",
    "                  E_l, otherwise\\\\\n",
    "                \\end{array}\n",
    "              \\right.\n",
    "$$\n",
    "\n",
    "with a solution given by.\n",
    "\n",
    "$$V(t) = V_{eq} (1-\\exp({\\frac{-t}{\\tau_m}})) + R_m I ( 1-\\exp({\\frac{-t}{\\tau_m}}))$$\n",
    "\n",
    "for long times this reduces to\n",
    "\n",
    "$$V_h = E_l + R_mI_h $$where $$V(t \\rightarrow \\infty) = V_h $$\n",
    "\n",
    "\n",
    "\n",
    "\n",
    "1. $\\tau_m$ : membrane time constant\n",
    "2. $V_h$ : holding potential\n",
    "3. $I_h$ : holding current\n",
    "\n",
    " \n",
    "To fit a LIF model to Jan's recorded data for LNs and PNs, we need to extract the model parameters. Specifically,\n",
    "\n",
    "1. $V_{th}$\n",
    "2. $V_{res}$\n",
    "3. $\\tau_m$\n",
    "4. $R_m$\n",
    "5. $C_m$"
   ]
  },
  {
   "cell_type": "markdown",
   "metadata": {},
   "source": [
    "### Parameter Extraction\n",
    "\n"
   ]
  },
  {
   "cell_type": "code",
   "execution_count": 107,
   "metadata": {
    "collapsed": true
   },
   "outputs": [],
   "source": [
    "def local_maxima(d):\n",
    "    '''\n",
    "    returns bool array with the same shape as `d` with elements at the position of local maxima in `d` are set to `True`\n",
    "    this function simply checks if the neighbouring elements are smaller or equal and is __sensitive to noise__\n",
    "    '''\n",
    "    return r_[True, d[1:] >= d[:-1]] & r_[d[:-1] > d[1:], True]"
   ]
  },
  {
   "cell_type": "markdown",
   "metadata": {},
   "source": [
    " #### Reset Potential $V_{res}$ & Leak Potential $E_l$"
   ]
  },
  {
   "cell_type": "markdown",
   "metadata": {},
   "source": [
    "__Reset potential__ $V_{res}$ can be calculated from the minimum of the membrane potential after a spike has occurred. We can look at these minimas for a a particular sweep and use them to calculate an average and a standard deviation. Here it is calculated using the ```reset ``` function.\n",
    "\n",
    "\n"
   ]
  },
  {
   "cell_type": "code",
   "execution_count": 108,
   "metadata": {
    "collapsed": true
   },
   "outputs": [],
   "source": [
    "def reset(sweep):\n",
    "    \"\"\"\n",
    "    Function to take an input of a sweep and return an integer value of the mean reset potential for that sweep \n",
    "    along with its standard deviation in mV.\n",
    "    \n",
    "    Inputs:\n",
    "    -------\n",
    "    sweep : array like\n",
    "    \n",
    "    Outputs:\n",
    "    --------\n",
    "    Mean Reset Potential : float\n",
    "    Standard Dev of Reset Potential : float\n",
    "    \n",
    "    \"\"\"\n",
    "    dt = 1/20000 #1/sampling rate (Hz)\n",
    "    th = 0 # use threshold of 0 mV for AP detection. the AP waveform is not very noise so the below works\n",
    "    \n",
    "    V = sweep\n",
    "    V_maxima = (local_maxima(V) & (V>th))\n",
    "    indices = V_maxima.nonzero()[0]\n",
    "    \n",
    "    chunk_list = [] #chunk of spectrum for each action potential\n",
    "    time_list = [] #the times for each action potential\n",
    "\n",
    "    ten_ms = dt*200 #10 ms in terms of dt\n",
    "\n",
    "    ten_ms_idx = int(ten_ms/dt)#10 ms in terms of indices\n",
    "\n",
    "    for index in indices:\n",
    "        start = index-ten_ms_idx\n",
    "        end = index+ten_ms_idx\n",
    "        chunk = V[start:end]\n",
    "        time = np.arange(start,end)\n",
    "        chunk_list.append(chunk)\n",
    "        time_list.append(time)    \n",
    "        \n",
    "    average_waveform = np.mean(chunk_list,axis = 0) #calculating the average waveform by averaging over the chunks\n",
    "\n",
    "    time = len(average_waveform)*dt\n",
    "    time = np.arange(0,time,dt)\n",
    "\n",
    "    reordered_chunks = [[] for x in xrange(len(average_waveform))] \n",
    "\n",
    "    for waveform in range(len(chunk_list)):\n",
    "        for chunk in range(len(average_waveform)):\n",
    "            reordered_chunks[chunk].append(chunk_list[waveform][chunk])\n",
    "\n",
    "    mean_waveform = []\n",
    "    std_dev = []\n",
    "\n",
    "    for chunk in range(len(reordered_chunks)):\n",
    "        mean_waveform.append(np.mean(reordered_chunks[chunk]))\n",
    "        std_dev.append(np.std(reordered_chunks[chunk]))\n",
    "\n",
    "    return float(format(min(mean_waveform),'.3f'))*1e3,float(format(max(std_dev),'.3f'))*1e3\n",
    "    \n"
   ]
  },
  {
   "cell_type": "markdown",
   "metadata": {},
   "source": [
    "Now using the above function we can find estimates of the reset potential for the two different kinds of neuron for the neurons which we've selected to examine."
   ]
  },
  {
   "cell_type": "code",
   "execution_count": 110,
   "metadata": {
    "collapsed": false
   },
   "outputs": [
    {
     "name": "stdout",
     "output_type": "stream",
     "text": [
      "[(-67.0, 2.0), (-67.0, 6.0), (-66.0, 7.0)]\n",
      "[(-57.0, 3.0), (-61.0, 4.0), (-55.0, 5.0)]\n"
     ]
    }
   ],
   "source": [
    "#have to select sweeps that are spiking - can in general choose last sweep as this always \n",
    "#spikes, however doing so might not be a good idea, as we shall see neurons physically \n",
    "#deprecate as the number of sweeps gets too high\n",
    "\n",
    "#PNs\n",
    "#generally start spiking for 4th sweep for selected neurons. (see Data_Overview notebook)\n",
    "\n",
    "PN_resets = [reset(PN_data_sel[nidx][3]) for nidx in (0,1,2)]\n",
    "\n",
    "print PN_resets #mV\n",
    "\n",
    "#LNs\n",
    "#generally all are spiking by the 6th sweep for the selected neurons (\"\" \"\")\n",
    "\n",
    "LN_resets = [reset(LN_data_sel[nidx][5]) for nidx in (0,1,2)]\n",
    "\n",
    "print LN_resets #mV"
   ]
  },
  {
   "cell_type": "markdown",
   "metadata": {},
   "source": [
    "### [Leak Potential $E_l$](#Contents)"
   ]
  },
  {
   "cell_type": "markdown",
   "metadata": {},
   "source": [
    "__Leak potential__ $E_l$ can be calculated from the mean of the membrane potential pre-stimulation. Here it is calculated using the ```equilibium ``` function."
   ]
  },
  {
   "cell_type": "markdown",
   "metadata": {},
   "source": [
    "can extend the ```equilibrium ``` function above with the ```mean_equilibrium``` function, which can find the average of the equilibrium potential over all the sweeps of a particular recording.\n",
    "\n"
   ]
  },
  {
   "cell_type": "code",
   "execution_count": 51,
   "metadata": {
    "collapsed": true
   },
   "outputs": [],
   "source": [
    "def equilibrium(sweep,stim_start, dt = 1/20000):\n",
    "    \"\"\"\n",
    "    function that takes a particular sweep as an input, and returns the equilibrium in mV\n",
    "    \n",
    "    Inputs:\n",
    "    -------\n",
    "    sweep : array of a particular sweep (mV)\n",
    "    stim_start : float time at which stimulation started (s)\n",
    "    \n",
    "    Outputs:\n",
    "    --------\n",
    "    mean reset potential : float (mV)\n",
    "    standard deviation of reset potential : float (mV)\n",
    "    mean membrane potential : float (mV)\n",
    "    standard deviation of membrane potential : float (mV)\n",
    "    \n",
    "    \"\"\"\n",
    "\n",
    "    \n",
    "    V = sweep\n",
    "    \n",
    "    idx_stim_start = int(stim_start/dt)\n",
    "\n",
    "    V_sub_before = V[:idx_stim_start]\n",
    "    \n",
    "    return V_sub_before.mean()/1e-3,V_sub_before.std()/1e-3\n",
    "\n",
    "\n",
    "def mean_equilibrium(sweeps,stim_start):\n",
    "    \"\"\"\n",
    "    Function that takes a set of sweeps, or recording, as an input and returns the mean equilibrium potential \n",
    "    over all of the recordings.\n",
    "    \n",
    "    Inputs:\n",
    "    -------\n",
    "    sweeps : sweeps of one neuron (array)\n",
    "    stim_start : time in seconds of when the stimulation starts\n",
    "    \n",
    "    Outputs:\n",
    "    --------\n",
    "    Mean Equilibrium potential : float\n",
    "    Standard Devitation of Equilibrium Potential : float\n",
    "    \n",
    "    \"\"\"\n",
    "    \n",
    "    idx_stim_start = int(stim_start/dt) \n",
    "                \n",
    "    return sweeps[:,:idx_stim_start].mean(), sweeps[:,:idx_stim_start].std()\n",
    "\n"
   ]
  },
  {
   "cell_type": "code",
   "execution_count": 113,
   "metadata": {
    "collapsed": false
   },
   "outputs": [
    {
     "name": "stdout",
     "output_type": "stream",
     "text": [
      "selected PN leak potentials(mV) [-61.227722, -62.195789, -61.672134]\n",
      "selected LN leak potentials (mV) [-69.631241, -68.096825, -67.810822]\n"
     ]
    }
   ],
   "source": [
    "# uncorrected leak potentials for our selected neurons\n",
    "PN_Leak_Potentials = [mean_equilibrium(PN_data_sel[nidx]*1e3,stim_start_PN)[0] for nidx in (0,1,2)]\n",
    "\n",
    "print 'selected PN leak potentials(mV)',PN_Leak_Potentials #mV\n",
    "\n",
    "LN_Leak_Potentials = [mean_equilibrium(LN_data_sel[nidx]*1e3,stim_start_LN)[0] for nidx in (0,1,2)]\n",
    "\n",
    "print 'selected LN leak potentials (mV)',LN_Leak_Potentials #mV\n"
   ]
  },
  {
   "cell_type": "markdown",
   "metadata": {},
   "source": [
    "### [Threshold Potential $V_{th}$](#Contents)"
   ]
  },
  {
   "cell_type": "markdown",
   "metadata": {},
   "source": [
    "We assume that the threshold is given by the maximum of the derivative of the membrane potential $\\frac{dV_m}{dt}$. We can use the ```threshold``` function to find the threshold for a particular sweep"
   ]
  },
  {
   "cell_type": "code",
   "execution_count": 53,
   "metadata": {
    "collapsed": false
   },
   "outputs": [],
   "source": [
    "def threshold(sweep):\n",
    "    \"\"\"\n",
    "    Function to plot the distributions of the threshold voltage as well as return the mean \n",
    "    value of the threshold for a particular sweep.\n",
    "    \n",
    "    Input:\n",
    "    ------\n",
    "    sweep : an array containing the data for a particular sweep\n",
    "    \n",
    "    Output:\n",
    "    -------\n",
    "    plot : figure displaying frequency distribution of the threshold voltages\n",
    "    Mean Value of threshold : float (mV)\n",
    "    \"\"\"\n",
    "\n",
    "    chunk_list_dash = []\n",
    "    chunk_list_dash_idx = []\n",
    "    V_unmasked = sweep\n",
    "\n",
    "    V = V_unmasked\n",
    "\n",
    "    th = 0 # use threshold of 0 mV for AP detection. the AP waveform is not very noise so the below works\n",
    "    V_maxima = (local_maxima(V) & (V>th))\n",
    "    indices = V_maxima.nonzero()[0]\n",
    "    twenty_ms = dt*400 #20 ms in terms of dt\n",
    "    twenty_ms_idx = int(twenty_ms/dt)#20 ms in terms of indices\n",
    "\n",
    "\n",
    "    chunk_list_dash = []\n",
    "    chunk_list_dash_idx = []\n",
    "\n",
    "    for index in range(len(V)):\n",
    "        if index in indices:\n",
    "            start = index-twenty_ms_idx\n",
    "            end = index+twenty_ms_idx\n",
    "            chunk = V_unmasked[start:end]\n",
    "            chunk = list(chunk)\n",
    "            chunk_idx = np.arange(start,end)\n",
    "            chunk_dash = np.diff(chunk)\n",
    "            chunk_list_dash.append(chunk_dash)\n",
    "            chunk_list_dash_idx.append(chunk_idx)\n",
    "\n",
    "\n",
    "    V_dash_idx = [] #list of derivatives with associated indices for each spike\n",
    "\n",
    "    for chunk_dash in range(len(chunk_list_dash)):\n",
    "        tuples = zip(chunk_list_dash[chunk_dash],chunk_list_dash_idx[chunk_dash])\n",
    "        V_dash_idx.append(tuples)\n",
    "\n",
    "\n",
    "    V_idx = [[] for x in xrange(len(V_dash_idx))]\n",
    "\n",
    "    for V_dash_chunk in range(len(V_dash_idx)):\n",
    "        for step in range(len(V_dash_idx[V_dash_chunk])):\n",
    "            if V_dash_idx[V_dash_chunk][step][0] >= max(chunk_list_dash[V_dash_chunk]):\n",
    "                V_idx[V_dash_chunk].append(V_dash_idx[V_dash_chunk][step][1])\n",
    "\n",
    "\n",
    "\n",
    "    V_idx_first = [] # indices where threshold is crossed according to our condition.\n",
    "\n",
    "    for index_list in range(len(V_idx)):\n",
    "        V_idx_first.append(V_idx[index_list][0])\n",
    "\n",
    "\n",
    "    # now just need to find V values that correspond to the indices in V_idx_first\n",
    "    V_thresh = [] #list to store all the threshold values of V, whenever the above condition is hit\n",
    "\n",
    "    for index in V_idx_first:\n",
    "        V_thresh.append(V_unmasked[index])\n",
    "\n",
    "    '''    spike_number = np.arange(0,71)    \n",
    "\n",
    "    from scipy.stats import norm\n",
    "\n",
    "    plt.figure()\n",
    "    sns.distplot(V_thresh,fit = norm,kde = False)\n",
    "    plt.xlabel('Threshold Voltage (V)')\n",
    "    plt.ylabel('Frequency')\n",
    "    plt.show()'''\n",
    "\n",
    "    return np.mean(V_thresh)*1e3"
   ]
  },
  {
   "cell_type": "code",
   "execution_count": 114,
   "metadata": {
    "collapsed": false
   },
   "outputs": [
    {
     "name": "stdout",
     "output_type": "stream",
     "text": [
      "PNs\n",
      "Neuron 1\n",
      "nan\n",
      "nan\n",
      "nan\n",
      "nan\n",
      "-20.4181522131\n",
      "-20.2209819108\n",
      "-20.2458333224\n",
      "Neuron 2\n",
      "nan\n",
      "nan\n",
      "0.930147129111\n",
      "3.26302088797\n",
      "1.15781254135\n",
      "2.64136912301\n",
      "1.21701392345\n",
      "0.106534076622\n",
      "Neuron 3\n",
      "nan\n",
      "nan\n",
      "-2.11197929457\n",
      "-0.638257653918\n",
      "-0.316176534398\n",
      "LNs\n",
      "Neuron 1\n",
      "nan\n",
      "nan\n",
      "-8.47500003874\n",
      "-10.9479166567\n",
      "-8.93933884799\n",
      "-11.2382816151\n",
      "-16.0175785422\n",
      "-13.4328436106\n",
      "-17.5426565111\n",
      "-19.070090726\n",
      "-19.5909924805\n",
      "Neuron 2\n",
      "nan\n",
      "nan\n",
      "nan\n",
      "nan\n",
      "nan\n",
      "-17.3295456916\n",
      "-15.7104767859\n",
      "-17.290296033\n",
      "-15.9979611635\n",
      "-15.6761370599\n",
      "-14.0859372914\n",
      "-14.0481758863\n",
      "Neuron 3\n",
      "nan\n",
      "nan\n",
      "nan\n",
      "nan\n",
      "-6.20312476531\n",
      "-6.31929328665\n",
      "-6.83081848547\n",
      "-6.69485284016\n",
      "-7.76015687734\n"
     ]
    }
   ],
   "source": [
    "# Need to find estimates for the threshold of our selected neurons\n",
    "# here just print out the threshold for each sweep for the neurons we've selected\n",
    "# nan when no spiking - can ignore.\n",
    "\n",
    "print 'PNs'\n",
    "print 'Neuron 1'\n",
    "for sweeps in range(len(PN_data_sel[0])):\n",
    "    print threshold(PN_data[0][sweeps]) #mV\n",
    "print 'Neuron 2'\n",
    "for sweeps in range(len(PN_data_sel[1])):\n",
    "    print threshold(PN_data_sel[1][sweeps])\n",
    "print 'Neuron 3'\n",
    "for sweeps in range(len(PN_data_sel[2])):\n",
    "    print threshold(PN_data_sel[2][sweeps])\n",
    "    \n",
    "print 'LNs'\n",
    "print 'Neuron 1'\n",
    "for sweeps in range(len(LN_data_sel[0])):\n",
    "    print threshold(LN_data_sel[0][sweeps])\n",
    "print 'Neuron 2'\n",
    "for sweeps in range(len(LN_data_sel[1])):\n",
    "    print threshold(LN_data_sel[1][sweeps])\n",
    "print 'Neuron 3'\n",
    "for sweeps in range(len(LN_data_sel[2])):\n",
    "    print threshold(LN_data_sel[2][sweeps])\n"
   ]
  },
  {
   "cell_type": "markdown",
   "metadata": {},
   "source": [
    "The threshold seems to be relatively consistent for each neuron with increasing sweeps. However, the threshold for different neurons can vary massively using our methodology. We can examine as to why this is by actually plotting the sweeps for different neurons and  comparing them."
   ]
  },
  {
   "cell_type": "code",
   "execution_count": 55,
   "metadata": {
    "collapsed": true
   },
   "outputs": [],
   "source": [
    "def plt_sweeps(data, nidx):\n",
    "    n_sweeps = len(data[nidx])\n",
    "\n",
    "    for i,sweep in enumerate(data[nidx]):\n",
    "        subplot(n_sweeps,1,i+1)\n",
    "        plot(sweep)\n",
    "        \n",
    "def plt_all_sweeps(data, number_of_datasets):\n",
    "    '''\n",
    "    ToDo\n",
    "    - plot the neuron index\n",
    "    '''\n",
    "    for nidx in arange(number_of_datasets):\n",
    "        figure()\n",
    "        plt_sweeps(data,nidx)"
   ]
  },
  {
   "cell_type": "code",
   "execution_count": 56,
   "metadata": {
    "collapsed": false
   },
   "outputs": [
    {
     "data": {
      "text/plain": [
       "-10.954102501273155"
      ]
     },
     "execution_count": 56,
     "metadata": {},
     "output_type": "execute_result"
    },
    {
     "data": {
      "image/png": "[encoded data removed]",
      "text/plain": [
       "<matplotlib.figure.Figure at 0x117461410>"
      ]
     },
     "metadata": {},
     "output_type": "display_data"
    }
   ],
   "source": [
    "#plt_sweeps(PN_data_sel,0)\n",
    "figure()\n",
    "plot(PN_data_sel[0][4])\n",
    "threshold(PN_data_sel[0][4])"
   ]
  },
  {
   "cell_type": "code",
   "execution_count": 57,
   "metadata": {
    "collapsed": false
   },
   "outputs": [
    {
     "data": {
      "text/plain": [
       "3.2630208879709244"
      ]
     },
     "execution_count": 57,
     "metadata": {},
     "output_type": "execute_result"
    },
    {
     "data": {
      "image/png": "[encoded data removed]",
      "text/plain": [
       "<matplotlib.figure.Figure at 0x1256ffa10>"
      ]
     },
     "metadata": {},
     "output_type": "display_data"
    }
   ],
   "source": [
    "#plt_sweeps(PN_data_sel,1)\n",
    "figure()\n",
    "plot(PN_data_sel[1][3])\n",
    "threshold(PN_data_sel[1][3])"
   ]
  },
  {
   "cell_type": "code",
   "execution_count": 58,
   "metadata": {
    "collapsed": false
   },
   "outputs": [
    {
     "data": {
      "text/plain": [
       "-0.63825765391811728"
      ]
     },
     "execution_count": 58,
     "metadata": {},
     "output_type": "execute_result"
    },
    {
     "data": {
      "image/png": "[encoded data removed]",
      "text/plain": [
       "<matplotlib.figure.Figure at 0x114dd1750>"
      ]
     },
     "metadata": {},
     "output_type": "display_data"
    }
   ],
   "source": [
    "#plt_sweeps(PN_data_sel,2)\n",
    "figure()\n",
    "plot(PN_data_sel[2][3])\n",
    "threshold(PN_data_sel[2][3])"
   ]
  },
  {
   "cell_type": "markdown",
   "metadata": {},
   "source": [
    "So what should we take as our value of threshold? A mean for each type of neuron over the selected neurons would not be a good measure as the value for threshold is consistent for each specific neuron. Perhaps it is only possible to characterise a threshold for a particular neuron... "
   ]
  },
  {
   "cell_type": "markdown",
   "metadata": {},
   "source": [
    "### [Time Constant $\\tau_m$](#Contents)\n"
   ]
  },
  {
   "cell_type": "markdown",
   "metadata": {},
   "source": [
    "The time constant is calculated from the subthreshold data. We define the time constant to be the time it takes for the membrane potential $V_m$ to reach $1-\\frac{1}{e}$ of its maximum value. Looking at the subthreshold data for the LNs and PNs."
   ]
  },
  {
   "cell_type": "code",
   "execution_count": 59,
   "metadata": {
    "collapsed": false
   },
   "outputs": [
    {
     "data": {
      "image/png": "[encoded data removed]",
      "text/plain": [
       "<matplotlib.figure.Figure at 0x118999f50>"
      ]
     },
     "metadata": {},
     "output_type": "display_data"
    },
    {
     "data": {
      "image/png": "[encoded data removed]",
      "text/plain": [
       "<matplotlib.figure.Figure at 0x103fdae50>"
      ]
     },
     "metadata": {},
     "output_type": "display_data"
    }
   ],
   "source": [
    "Tpn = 220000*dt\n",
    "Tln = 160000*dt\n",
    "tpn = np.arange(0,Tpn,dt)\n",
    "tln = np.arange(0,Tln,dt)\n",
    "\n",
    "figure()\n",
    "plot(tpn*1e3,PN_data[0][0]*1e3)\n",
    "xlabel('Time (ms)')\n",
    "xlim(0,11000)\n",
    "title('Subthreshold PN example')\n",
    "ylabel('Membrane Potential $V_m$ (mV)')\n",
    "show()\n",
    "\n",
    "figure()\n",
    "plot(tln*1e3,LN_data[0][1]*1e3)\n",
    "xlabel('Time (ms)')\n",
    "ylabel('Membrane Potential $V_m$ (mV)')\n",
    "title('Subthreshold LN example')\n",
    "show()"
   ]
  },
  {
   "cell_type": "markdown",
   "metadata": {},
   "source": [
    "There are clearly some features in the membrane potential over a longer timescale than the time constant, which we expect to be over the order of 10 ms. Therefore to extract the time constant we constant by considering the membrane potential during a much smaller time scale - of the order of 50-60 ms after the beginning of the stimulus. We do this using the ```time_constant``` function."
   ]
  },
  {
   "cell_type": "code",
   "execution_count": 60,
   "metadata": {
    "collapsed": false
   },
   "outputs": [],
   "source": [
    "def time_constant(sub_thresh_sweep,stim_start):\n",
    "    \"\"\"\n",
    "    Function to take a subthreshold sweep of either LNs or PNs and return the time constant using the above definition\n",
    "    in ms\n",
    "    \n",
    "    Inputs:\n",
    "    -------\n",
    "    sub_thresh_sweep : an array containing the data for a subthreshold sweep.\n",
    "    stim_start : float, time in seconds of when the stimulus starts\n",
    "    \n",
    "    Outputs:\n",
    "    --------\n",
    "    time_constant : float (ms)\n",
    "    \"\"\"\n",
    "    hundred_ms = 100\n",
    "    idx_hundred_ms = 100/(dt*1e3)\n",
    "    idx_stim_start= int(stim_start/dt)\n",
    "\n",
    "    V = sub_thresh_sweep\n",
    "    \n",
    "    V_time_constant = np.empty_like(V)  #bit of membrane potential which we want to calculate the time constant from\n",
    "    V_time_constant[:] = V\n",
    "    \n",
    "    V_time_constant = V_time_constant[idx_stim_start:int(idx_stim_start+idx_hundred_ms)]\n",
    "    \n",
    "    V_time_constant = V_time_constant-min(V_time_constant)\n",
    "    \n",
    "    # now find the membrane potential which corresponds to time constant\n",
    "\n",
    "    tau_Vm = 0.66 * max(V_time_constant)\n",
    "    \n",
    "    # find the corresponding time for this potential\n",
    "    tau_idx = []\n",
    "    for voltages in range(len(V_time_constant)):\n",
    "        if V_time_constant[voltages] >= tau_Vm:\n",
    "            tau_idx.append(voltages)\n",
    "    \n",
    "    return tau_idx[0]*dt*1e3"
   ]
  },
  {
   "cell_type": "markdown",
   "metadata": {},
   "source": [
    "check time constants for PNs and LNs (in ms)\n",
    "\n"
   ]
  },
  {
   "cell_type": "code",
   "execution_count": 98,
   "metadata": {
    "collapsed": false
   },
   "outputs": [
    {
     "name": "stdout",
     "output_type": "stream",
     "text": [
      "[5.45, 10.5, 8.55, 7.3, 13.15]\n",
      "[12.85, 16.8, 6.25, 15.700000000000003, 23.85, 12.8, 6.800000000000001, 18.3]\n"
     ]
    }
   ],
   "source": [
    "#PNs \n",
    "\n",
    "#remember can only consider subthreshold sweeps to extract time constant\n",
    "\n",
    "sub_thresh_sweeps_PN = []\n",
    "\n",
    "\n",
    "PNidx = [0,1,2,3,4]\n",
    "for data in PNidx:\n",
    "    sub_thresh_sweeps_PN.append(PN_data[data][0])\n",
    "\n",
    "    \n",
    "PN_time_constants = []\n",
    "\n",
    "for data in range(len(sub_thresh_sweeps_PN)):\n",
    "    PN_time_constants.append(time_constant(sub_thresh_sweeps_PN[data],stim_start_PN))\n",
    "print PN_time_constants # ms\n",
    "\n",
    "\n",
    "#LNs, generally consider second sweep as first one has no stim\n",
    "\n",
    "sub_thresh_sweeps_LN = []\n",
    "\n",
    "\n",
    "LNidx = [0,1,2,3,4,5,6,7]\n",
    "for data in LNidx:\n",
    "    sub_thresh_sweeps_LN.append(LN_data[data][1])\n",
    "\n",
    "    \n",
    "LN_time_constants = []\n",
    "\n",
    "for data in range(len(sub_thresh_sweeps_LN)):\n",
    "    LN_time_constants.append(time_constant(sub_thresh_sweeps_LN[data],stim_start_LN))\n",
    "print LN_time_constants # ms\n",
    "\n"
   ]
  },
  {
   "cell_type": "markdown",
   "metadata": {},
   "source": [
    "For PNs it seems that we should ignore the first and fifth neurons as the rest of the time constants are clustered around 8 ms (which is approximately the expeced order of magnitude). This gives credence to our selection of 'good' neurons earlier.\n",
    "\n",
    "fo LNs only 3/4 of the neurons considered have time constants of a similar order of magnitude to that which is expected ~ 10 ms: I chose to consider the first the sixth and the seventh neurons in our analysis. "
   ]
  },
  {
   "cell_type": "code",
   "execution_count": 103,
   "metadata": {
    "collapsed": false
   },
   "outputs": [
    {
     "name": "stdout",
     "output_type": "stream",
     "text": [
      "Time Constants for selected PNs (ms) [10.5, 8.55, 7.3]\n",
      "Time Constants for selected LNs (ms) [12.85, 12.8, 6.800000000000001]\n"
     ]
    }
   ],
   "source": [
    "#PNs \n",
    "\n",
    "#remember can only consider subthreshold sweeps to extract time constant\n",
    "\n",
    "sub_thresh_sweeps_PN = []\n",
    "\n",
    "\n",
    "PNidx = [1,2,3]\n",
    "for data in PNidx:\n",
    "    sub_thresh_sweeps_PN.append(PN_data[data][0])\n",
    "\n",
    "    \n",
    "PN_time_constants = []\n",
    "\n",
    "for data in range(len(sub_thresh_sweeps_PN)):\n",
    "    PN_time_constants.append(time_constant(sub_thresh_sweeps_PN[data],stim_start_PN))\n",
    "print 'Time Constants for selected PNs (ms)',PN_time_constants # ms\n",
    "\n",
    "\n",
    "\n",
    "#LNs, generally consider second sweep as first one has no stim\n",
    "\n",
    "sub_thresh_sweeps_LN = []\n",
    "\n",
    "\n",
    "LNidx = [0,5,6]\n",
    "for data in LNidx:\n",
    "    sub_thresh_sweeps_LN.append(LN_data[data][1])\n",
    "\n",
    "    \n",
    "LN_time_constants = []\n",
    "\n",
    "for data in range(len(sub_thresh_sweeps_LN)):\n",
    "    LN_time_constants.append(time_constant(sub_thresh_sweeps_LN[data],stim_start_LN))\n",
    "print 'Time Constants for selected LNs (ms)',LN_time_constants # ms\n"
   ]
  },
  {
   "cell_type": "markdown",
   "metadata": {},
   "source": [
    "### [Membrane Resistance $R_m$](#Contents)"
   ]
  },
  {
   "cell_type": "markdown",
   "metadata": {},
   "source": [
    "The membrane resistance can be calculated in the limit for long times, where the solution to the LIF differential equation reduces to \n",
    "\n",
    "$$V_h = E_l + R_mI_h $$\n",
    "\n",
    "This requires knowledge of the holding current, which we only have access to for the LNs. If we know the holding current, then membrane resistance is simply\n",
    "\n",
    "$$ R_m = \\frac{V_h - E_l}{I_h} = \\frac{\\Delta V}{I_h} $$\n",
    "\n",
    "where $I_h$ is the holding current and $V_h$ is the holding potential. This is before the 50pA depolarising steps are applied. When these are applied the equation goes to\n",
    "\n",
    "$$V_s - V_h = R_m I_s $$\n",
    "\n",
    "$$R_m = \\frac{V_s - V_h}{I_s} $$\n",
    "\n",
    "where the $s$ subscript stands for subthreshold. Using the latter equation we can calculate $R_m$ and subsequently $C_m$ using the time constant. We calculate the $R_m$ using the ```resistance ``` function."
   ]
  },
  {
   "cell_type": "code",
   "execution_count": 63,
   "metadata": {
    "collapsed": true
   },
   "outputs": [],
   "source": [
    "def resistance(V0, subthres_sweep, I_s, tmin, tmax):\n",
    "    \"\"\"\n",
    "    Function to take a subthreshold sweep and return the membrane resistance\n",
    "    \n",
    "    Inputs:\n",
    "    -------\n",
    "    sub_thresh_sweep : single sweep without stimulation (array) [V]\n",
    "    I_s  : subthreshold current (pA)\n",
    "    tmin : float (s) used to define window in which to calculate the subthreshold potential\n",
    "    tmax : float (s) '' '' \n",
    "    V0   : reference potential [V](can find using equilibrium function)\n",
    "    \n",
    "    \n",
    "    Outputs:\n",
    "    --------\n",
    "    membrane resistance in M Ohm: float, membrane resistance\n",
    "    \n",
    "    \"\"\"\n",
    "    \n",
    "    idx_start = int(tmin/dt)\n",
    "    idx_end = int(tmax/dt)\n",
    "    \n",
    "    V_s = subthres_sweep[idx_start:idx_end]\n",
    "    R_m = (V_s.mean() - V0) /I_s #tera Ohm [V/pA]\n",
    "    R_m *= 1e6 #convert to mega Ohm\n",
    "    return R_m"
   ]
  },
  {
   "cell_type": "markdown",
   "metadata": {},
   "source": [
    "We can now check that the resistance is broadly consistent over different sweeps."
   ]
  },
  {
   "cell_type": "markdown",
   "metadata": {},
   "source": [
    "#### Printing values of membrane resistance for all the LNs"
   ]
  },
  {
   "cell_type": "code",
   "execution_count": 64,
   "metadata": {
    "collapsed": false
   },
   "outputs": [
    {
     "name": "stdout",
     "output_type": "stream",
     "text": [
      "Vh: -69.45 mV, R_M: 63.50 MOhm\n",
      "Vh: -69.05 mV, R_M: 58.25 MOhm\n",
      "Vh: -68.83 mV, R_M: 38.98 MOhm\n",
      "Vh: -69.51 mV, R_M: 30.60 MOhm\n",
      "Vh: -66.93 mV, R_M: 292.00 MOhm\n",
      "Vh: -69.23 mV, R_M: 46.69 MOhm\n",
      "Vh: -67.42 mV, R_M: 59.27 MOhm\n",
      "Vh: -67.82 mV, R_M: 45.39 MOhm\n"
     ]
    }
   ],
   "source": [
    "nidx = 5\n",
    "sub_sweeps = (1,2,3,4)\n",
    "\n",
    "nidx = 3\n",
    "sub_sweeps = (1,2,3,4,5)\n",
    "sweep_idx  = 1\n",
    "\n",
    "curr_step = 50 #pA\n",
    "LN_resistances = []\n",
    "\n",
    "\n",
    "#finding resistances for the second sweep for all the neurons\n",
    "for data in LN_data:\n",
    "    Vh = data[sweep_idx,:idx_stim_start_LN].mean()\n",
    "    R_M = resistance(Vh,data[sweep_idx],curr_step,stim_start_LN+2,stim_end_LN)\n",
    "    print 'Vh: {:.2f} mV, R_M: {:.2f} MOhm'.format(Vh*1e3,R_M)  \n",
    "    LN_resistances.append(R_M)\n",
    "    \n",
    "    \n",
    "#finding resistances for all sweeps of a given neuron\n",
    "for sweep_idx in sub_sweeps:\n",
    "    Vh = LN_data[nidx][sweep_idx,:idx_stim_start_LN].mean()\n",
    "    R_M = resistance(Vh,LN_data[nidx][sweep_idx],50*sweep_idx,stim_start_LN+2,stim_end_LN)\n",
    "    #print 'Vh: {:.2f} mV, R_M: {:.2f} MOhm'.format(Vh*1e3,R_M)    \n",
    "    LN_resistances.append(R_M)"
   ]
  },
  {
   "cell_type": "markdown",
   "metadata": {},
   "source": [
    "Of the selected LN neurons, "
   ]
  },
  {
   "cell_type": "code",
   "execution_count": 65,
   "metadata": {
    "collapsed": false
   },
   "outputs": [
    {
     "name": "stdout",
     "output_type": "stream",
     "text": [
      "[58.249831199645996, 46.688765287399292, 59.266090393066406]\n"
     ]
    }
   ],
   "source": [
    "LN_resistances_selected = [LN_resistances[i] for i in (1,5,6)]\n",
    "\n",
    "print LN_resistances_selected"
   ]
  },
  {
   "cell_type": "markdown",
   "metadata": {},
   "source": [
    "##### Print Values of Membrane Resistance for all the PNs\n"
   ]
  },
  {
   "cell_type": "code",
   "execution_count": 121,
   "metadata": {
    "collapsed": false
   },
   "outputs": [],
   "source": [
    "sweep_idx = 1 # second sweep usually has a subthres stimulation\n",
    "\n",
    "sub_sweeps = (1,2,3,5,6,7)\n",
    "sub_sweeps = (0,1,2,3,4,5,6)\n",
    "curr_step = 50 #pA\n",
    "\n",
    "#finding resistances for the second sweep for all the neurons\n",
    "PN_resistances = []\n",
    "for data in PN_data:\n",
    "    Vh = data[sweep_idx,:idx_stim_start_PN].mean()\n",
    "    R_M = resistance(Vh,data[sweep_idx],curr_step,stim_start_PN+2,stim_end_PN)\n",
    "    #print 'Vh: {:.2f} mV, R_M: {:.2f} MOhm'.format(Vh*1e3,R_M)  \n",
    "    PN_resistances.append(R_M)\n",
    "\n",
    "\n",
    "#finding resistances for all the sweeps of a given neuron\n",
    "\n",
    "for sweep_idx in sub_sweeps:\n",
    "    Vh = PN_data[nidx][sweep_idx,:idx_stim_start_PN].mean()\n",
    "    R_M = resistance(Vh,PN_data[nidx][sweep_idx],50*sweep_idx,stim_start_PN+2,stim_end_PN)\n",
    "    #print 'Vh: {:.2f} mV, R_M: {:.2f} MOhm'.format(Vh*1e3,R_M)    \n",
    "\n"
   ]
  },
  {
   "cell_type": "markdown",
   "metadata": {},
   "source": [
    "The resistances appear to be largely consistent for each type of neuron."
   ]
  },
  {
   "cell_type": "markdown",
   "metadata": {},
   "source": [
    "Similarly for our selected PNs, based on how their time constants behaved we find:"
   ]
  },
  {
   "cell_type": "code",
   "execution_count": 122,
   "metadata": {
    "collapsed": false
   },
   "outputs": [
    {
     "name": "stdout",
     "output_type": "stream",
     "text": [
      "[256.01230561733246, 286.91716492176056, 273.31911027431488]\n"
     ]
    }
   ],
   "source": [
    "#resistaces of selected PNs\n",
    "PN_resistances_selected = [PN_resistances[i] for i in (2,3,4)]\n",
    "print PN_resistances_selected"
   ]
  },
  {
   "cell_type": "markdown",
   "metadata": {},
   "source": [
    "### [Membrane Capacitance $C_m$](#Contents)"
   ]
  },
  {
   "cell_type": "markdown",
   "metadata": {},
   "source": [
    "Membrane capacitance can now be calculated from the time constant using $\\tau = R_mCm$. The calculation is contained in the function ``` capacitance```"
   ]
  },
  {
   "cell_type": "code",
   "execution_count": 68,
   "metadata": {
    "collapsed": false
   },
   "outputs": [],
   "source": [
    "def capacitance(membrane_resistance,time_constant):\n",
    "    \"\"\"\n",
    "    Function to return the membrane capacitance in nano Farads (nF)\n",
    "    \n",
    "    Inputs:\n",
    "    -------\n",
    "    membrane_resistance : float, membrane resistance calculated for a particular sweep (gOhms)\n",
    "    time_constant : float time constant tau for a particular sweep\n",
    "    \n",
    "    Outputs:\n",
    "    membrane capacitance : float, membrane capacitance for a particular sweep (nF)\n",
    "    \"\"\"\n",
    "    \n",
    "    C_m = time_constant/membrane_resistance\n",
    "    return C_m\n"
   ]
  },
  {
   "cell_type": "markdown",
   "metadata": {},
   "source": [
    "Using this function, let's find the capacitances for our selected LNs and PNs. "
   ]
  },
  {
   "cell_type": "code",
   "execution_count": 124,
   "metadata": {
    "collapsed": false
   },
   "outputs": [
    {
     "name": "stdout",
     "output_type": "stream",
     "text": [
      "Capactiances of selected LNs (nF) [0.22060149764138876, 0.27415588999211676, 0.11473677367447101]\n",
      "Capacitances of selected PNs (nF) [0.041013653522165433, 0.029799541628440042, 0.026708706876271492]\n"
     ]
    }
   ],
   "source": [
    "#LNs\n",
    "\n",
    "capacitancesLN = [capacitance(LN_resistances_selected[i],LN_time_constants[i]) for i in (0,1,2)]\n",
    "print 'Capactiances of selected LNs (nF)',capacitancesLN #nF\n",
    "#PNs\n",
    "capacitancesPN = [capacitance(PN_resistances_selected[i],PN_time_constants[i]) for i in (0,1,2)]\n",
    "print 'Capacitances of selected PNs (nF)',capacitancesPN #nF"
   ]
  },
  {
   "cell_type": "markdown",
   "metadata": {},
   "source": [
    "the capacitances too are broadly consistent over neuron type"
   ]
  },
  {
   "cell_type": "markdown",
   "metadata": {},
   "source": [
    "### [Leak Potential $E_l$ & Holding Current](#Contents)"
   ]
  },
  {
   "cell_type": "markdown",
   "metadata": {},
   "source": [
    "The equilibirum potential $V_{h}$ is approximately -70 mV, however this is after being subject to a holding current. This is done to ensure that different neurons being tested are comparable. We can correct the equilibrium potentials using our knowledge of the holding current in order to find out what they actaully is for the neurons examined.\n",
    "\n",
    "\n",
    "$$V_h = V_{L} + R_mI_h $$\n",
    "\n",
    "$$ V_{L} = V_h - R_mI_h  $$ \n"
   ]
  },
  {
   "cell_type": "code",
   "execution_count": 126,
   "metadata": {
    "collapsed": false
   },
   "outputs": [
    {
     "name": "stdout",
     "output_type": "stream",
     "text": [
      "(-0.069631249, 0.00049357786)\n",
      "(-0.071308218, 0.0022116113)\n",
      "(-0.069785804, 0.0010620955)\n",
      "(-0.069742247, 0.00058150908)\n",
      "(-0.066730991, 0.00025949237)\n",
      "(-0.068096809, 0.0010139332)\n",
      "(-0.067810819, 0.00063142186)\n",
      "(-0.067226626, 0.00049897091)\n"
     ]
    }
   ],
   "source": [
    "#LN averaged holding potentials\n",
    "for sweeps in LN_data:\n",
    "    print mean_equilibrium(sweeps,stim_start_LN)  # (V)"
   ]
  },
  {
   "cell_type": "code",
   "execution_count": 127,
   "metadata": {
    "collapsed": false
   },
   "outputs": [
    {
     "name": "stdout",
     "output_type": "stream",
     "text": [
      "(-0.062209204, 0.00021388977)\n",
      "(-0.060010385, 0.00053257373)\n",
      "(-0.061227717, 0.00013420917)\n",
      "(-0.062195785, 0.00065517804)\n",
      "(-0.061672121, 0.00024668168)\n"
     ]
    }
   ],
   "source": [
    "#PN averaged holding potentials\n",
    "for sweeps in PN_data:\n",
    "    print mean_equilibrium(sweeps,stim_start_PN) # (V)"
   ]
  },
  {
   "cell_type": "code",
   "execution_count": 72,
   "metadata": {
    "collapsed": false
   },
   "outputs": [
    {
     "data": {
      "text/plain": [
       "<matplotlib.legend.Legend at 0x10409c210>"
      ]
     },
     "execution_count": 72,
     "metadata": {},
     "output_type": "execute_result"
    },
    {
     "data": {
      "image/png": "[encoded data removed]",
      "text/plain": [
       "<matplotlib.figure.Figure at 0x1152d3450>"
      ]
     },
     "metadata": {},
     "output_type": "display_data"
    }
   ],
   "source": [
    "for i,sweeps in enumerate(LN_data):\n",
    "    plot(sweeps[:,:idx_stim_start_LN].mean(-1)*1e3, label=i+1)\n",
    "\n",
    "xlabel('Sweep')\n",
    "ylabel('Holding Potential Vh (mV)')\n",
    "title('Holding Potential vs Sweep (LNs)')\n",
    "legend()"
   ]
  },
  {
   "cell_type": "code",
   "execution_count": 73,
   "metadata": {
    "collapsed": false
   },
   "outputs": [
    {
     "data": {
      "text/plain": [
       "<matplotlib.legend.Legend at 0x114dd1550>"
      ]
     },
     "execution_count": 73,
     "metadata": {},
     "output_type": "execute_result"
    },
    {
     "data": {
      "image/png": "[encoded data removed]",
      "text/plain": [
       "<matplotlib.figure.Figure at 0x114619dd0>"
      ]
     },
     "metadata": {},
     "output_type": "display_data"
    }
   ],
   "source": [
    "for i,sweeps in enumerate(PN_data):\n",
    "    plot(sweeps[:,:idx_stim_start_PN].mean(-1)*1e3, label=i+1)\n",
    "\n",
    "xlabel('Sweep')\n",
    "ylabel('Holding Potential Vh (mV)')\n",
    "title('Holding Potential vs Sweep (PNs)')\n",
    "legend()"
   ]
  },
  {
   "cell_type": "markdown",
   "metadata": {},
   "source": [
    "By plotting the holding potentials of the LNs and PNs as a function of sweep, we can see that the neurons we ignored for in the LN recordings correspond to neurons that show a rapid decrease in holding potential with increasing numbers of sweeps. This might correspond to a cell dying, and it further adds to the case to ignore these readings in calculating our estimated model parameters."
   ]
  },
  {
   "cell_type": "code",
   "execution_count": 74,
   "metadata": {
    "collapsed": true
   },
   "outputs": [],
   "source": [
    "# Get the Leak potentials (apply holding current correction) (single subthreshold sweep)"
   ]
  },
  {
   "cell_type": "code",
   "execution_count": 75,
   "metadata": {
    "collapsed": false
   },
   "outputs": [
    {
     "name": "stdout",
     "output_type": "stream",
     "text": [
      "V_h: -69.45 mV, V_L: -70.72 mV\n",
      "V_h: -69.05 mV, V_L: -70.22 mV\n",
      "V_h: -68.83 mV, V_L: -69.61 mV\n",
      "V_h: -69.51 mV, V_L: -70.12 mV\n",
      "V_h: -66.93 mV, V_L: -72.77 mV\n",
      "V_h: -69.23 mV, V_L: -70.17 mV\n",
      "V_h: -67.42 mV, V_L: -68.61 mV\n",
      "V_h: -67.82 mV, V_L: -68.72 mV\n"
     ]
    }
   ],
   "source": [
    "sweep_idx = 1\n",
    "curr_step = 50 #pA\n",
    "\n",
    "for sweeps in LN_data:    \n",
    "    V_h = sweeps[sweep_idx,:idx_stim_start_LN].mean()\n",
    "    R_m = resistance(V_h, sweeps[sweep_idx], curr_step, stim_start_LN+2, stim_end_LN)\n",
    "    R_m *= 1e6 #convert to Ohm\n",
    "    V_L = V_h - (R_m*holding_currents[nidx]*1e-12)\n",
    "    print 'V_h: {:.2f} mV, V_L: {:.2f} mV'.format(V_h*1e3,V_L*1e3)    "
   ]
  },
  {
   "cell_type": "markdown",
   "metadata": {},
   "source": [
    "### [Single Neuron Model](#Contents)"
   ]
  },
  {
   "cell_type": "markdown",
   "metadata": {},
   "source": [
    "Now that we've extracted some realistic parameters from our data we can try and incorporate them in a spiking model using the LIF equation. We can start with the model parameters for the PNs. (except threshold)\n",
    " \n"
   ]
  },
  {
   "cell_type": "markdown",
   "metadata": {},
   "source": [
    "#### Single Neuron Model (PNs)"
   ]
  },
  {
   "cell_type": "code",
   "execution_count": 87,
   "metadata": {
    "collapsed": true
   },
   "outputs": [],
   "source": [
    "def stimulus(n_sweeps,sweep_idx):\n",
    "    \"\"\"\n",
    "    Function to return an array of stimulus values for a particular neuron recording (pA)\n",
    "    \n",
    "    Inputs:\n",
    "    -------\n",
    "    n_sweeps : float, number of sweeps in the recording of one neuron\n",
    "    sweep_idx : float, the sweep that you want to find the stimulation current for (pA)\n",
    "    \n",
    "    Outputs: \n",
    "    --------\n",
    "    \n",
    "    I : stimulation current for that particular sweep (pA)\n",
    "    \n",
    "\n",
    "    \"\"\"\n",
    "    curr_step = 50 #pA\n",
    "    return np.arange(curr_step,n_sweeps*curr_step,curr_step)[sweep_idx]\n",
    "    "
   ]
  },
  {
   "cell_type": "code",
   "execution_count": 88,
   "metadata": {
    "collapsed": false
   },
   "outputs": [],
   "source": [
    "## setup parameters and state variables\n",
    "T       =  stim_end_PN - stim_start_PN  # total time of stimulation (s)\n",
    "\n",
    "dt      = 1/f_s                         # time step (Hz)\n",
    "\n",
    "tsim    = np.arange(0,T+dt,dt)          # time array\n",
    "\n",
    "tref    = 0                             # refractory time"
   ]
  },
  {
   "cell_type": "code",
   "execution_count": 89,
   "metadata": {
    "collapsed": false
   },
   "outputs": [],
   "source": [
    "## LIF properties\n",
    "\n",
    "Vm            = np.zeros(len(tsim))                    # potential (V) over time\n",
    "Cm            = np.mean(capacitancesPN)                # membrane capacitance (nF)\n",
    "Rm            = np.mean(PN_resistances_selected)       # membrane resistance (MOhms)\n",
    "tau_m         = Rm*Cm                                  # membrane time constant (ms)\n",
    "Vth           = 0                                      # threshold voltage (V) (need's fixing)\n",
    "V_spike       = 0.5                                    # spike 'delta' as observed spikes have\n",
    "                                                       # some form\n",
    "\n",
    "## stimulus\n",
    "\n",
    "#I = stimulus()                                        # define stimulus here, input current pA"
   ]
  },
  {
   "cell_type": "code",
   "execution_count": null,
   "metadata": {
    "collapsed": true
   },
   "outputs": [],
   "source": [
    "## iterate over each time step\n",
    "    "
   ]
  }
 ],
 "metadata": {
  "kernelspec": {
   "display_name": "Python 2",
   "language": "python",
   "name": "python2"
  },
  "language_info": {
   "codemirror_mode": {
    "name": "ipython",
    "version": 2
   },
   "file_extension": ".py",
   "mimetype": "text/x-python",
   "name": "python",
   "nbconvert_exporter": "python",
   "pygments_lexer": "ipython2",
   "version": "2.7.11"
  }
 },
 "nbformat": 4,
 "nbformat_minor": 0
}
