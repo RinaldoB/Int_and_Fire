{
 "cells": [
  {
   "cell_type": "code",
   "execution_count": 2,
   "metadata": {
    "collapsed": false
   },
   "outputs": [
    {
     "name": "stdout",
     "output_type": "stream",
     "text": [
      "Populating the interactive namespace from numpy and matplotlib\n"
     ]
    },
    {
     "name": "stderr",
     "output_type": "stream",
     "text": [
      "//anaconda/lib/python2.7/site-packages/matplotlib/font_manager.py:273: UserWarning: Matplotlib is building the font cache using fc-list. This may take a moment.\n",
      "  warnings.warn('Matplotlib is building the font cache using fc-list. This may take a moment.')\n"
     ]
    }
   ],
   "source": [
    "%pylab inline\n",
    "from __future__ import division\n",
    "import matplotlib.pyplot as plt\n",
    "import numpy as np\n",
    "import peakutils\n",
    "import seaborn as sns\n",
    "import os\n",
    "import cPickle as pickle\n",
    "dt = 1/20000 #20kHz sampling rate"
   ]
  },
  {
   "cell_type": "markdown",
   "metadata": {},
   "source": [
    "#### collecting data into useable format"
   ]
  },
  {
   "cell_type": "code",
   "execution_count": 3,
   "metadata": {
    "collapsed": false
   },
   "outputs": [],
   "source": [
    "#Dates  =  [name for name in os.listdir(\".\") if os.path.isdir(name)][1:]\n",
    "#the above only works with the all the data in different date folders,\n",
    "#as these have been deleted for convenience it no longer works, so beware\n",
    "\n",
    "files = ['AllDatesLN/PMPulse_2_8_1_1-Vmon-1++.txt',\n",
    "         'AllDatesLN/PMPulse_1_3_1_1-Vmon-1++.txt',\n",
    "        'AllDatesLN/PMPulse_1_7_1_1-Vmon-1++.txt',\n",
    "        'AllDatesLN/PMPulse_2_4_1_1-Vmon-1++.txt',\n",
    "        'AllDatesLN/PMPulse_1_6_5_1-Vmon-1.txt',\n",
    "        'AllDatesLN/PMPulse_1_5_1_1-Vmon-1++.txt',\n",
    "        'AllDatesLN/PMPulse_2_3_1_1_Vmon-1++.txt',\n",
    "        'AllDatesLN/PMPulse_2_7_1_1_Vmon-1++.txt']\n",
    "\n",
    "\n",
    "data = [loadtxt(file, skiprows=1, dtype='float32') for file in files]\n",
    "\n",
    "pulses = [loadtxt(file, dtype='str') for file in files]\n",
    "\n",
    "pulse_labels = []\n",
    "for i in range(8):\n",
    "    pulse_labels.append(pulses[i][0])\n",
    "    \n"
   ]
  },
  {
   "cell_type": "code",
   "execution_count": null,
   "metadata": {
    "collapsed": true
   },
   "outputs": [],
   "source": [
    "\n",
    "data_transposed = [d.T for d in data]\n",
    "\n",
    "#pickle.dump(data_transposed,open('LNdata.pkl','wb'),protocol=-1)\n",
    "#pickle.dump(Dates,open('dates.pkl','wb'),protocol=-1)\n",
    "pickle.dump(pulse_labels,open('pulselabelsLN.pkl','wb'),protocol=-1)\n"
   ]
  },
  {
   "cell_type": "code",
   "execution_count": 27,
   "metadata": {
    "collapsed": false
   },
   "outputs": [
    {
     "data": {
      "image/png": "[encoded data removed]",
      "text/plain": [
       "<matplotlib.figure.Figure at 0x11983fd50>"
      ]
     },
     "metadata": {},
     "output_type": "display_data"
    }
   ],
   "source": [
    "fig = figure()\n",
    "\n",
    "ax = fig.add_axes([0.1,0.1,0.8,0.8])\n",
    "\n",
    "ax.plot(data_transposed[0][4])\n",
    "\n",
    "show()\n",
    "\n"
   ]
  },
  {
   "cell_type": "code",
   "execution_count": null,
   "metadata": {
    "collapsed": true
   },
   "outputs": [],
   "source": []
  }
 ],
 "metadata": {
  "kernelspec": {
   "display_name": "Python 2",
   "language": "python",
   "name": "python2"
  },
  "language_info": {
   "codemirror_mode": {
    "name": "ipython",
    "version": 2
   },
   "file_extension": ".py",
   "mimetype": "text/x-python",
   "name": "python",
   "nbconvert_exporter": "python",
   "pygments_lexer": "ipython2",
   "version": "2.7.11"
  }
 },
 "nbformat": 4,
 "nbformat_minor": 0
}
