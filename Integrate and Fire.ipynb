{
 "cells": [
  {
   "cell_type": "code",
   "execution_count": 1,
   "metadata": {
    "collapsed": false
   },
   "outputs": [],
   "source": [
    "%matplotlib inline\n",
    "import numpy as np\n",
    "import matplotlib.pyplot as plt\n",
    "import seaborn as sns\n",
    "import cPickle as pickle\n",
    "import gzip \n",
    "from pylab import *\n",
    "from __future__ import division"
   ]
  },
  {
   "cell_type": "code",
   "execution_count": 2,
   "metadata": {
    "collapsed": false
   },
   "outputs": [],
   "source": [
    "PNdata = pickle.load(gzip.open('/Users/Sri/Desktop/Int_and_Fire/Data/PNdata.pklz'))\n",
    "pulse_labelsPN = pickle.load(gzip.open('/Users/Sri/Desktop/Int_and_Fire/Data/pulselabelsPN.pklz','rb'))\n",
    "number_of_datasetsPN = 5\n",
    "\n",
    "LNdata = pickle.load(gzip.open('/Users/Sri/Desktop/Int_and_Fire/Data/LNdata.pklz','rb'))\n",
    "pulse_labelsLN = pickle.load(gzip.open('/Users/Sri/Desktop/Int_and_Fire/Data/pulselabelsLN.pklz','rb'))\n",
    "number_of_datasetsLN = 8"
   ]
  },
  {
   "cell_type": "markdown",
   "metadata": {},
   "source": [
    "### LIF model"
   ]
  },
  {
   "cell_type": "markdown",
   "metadata": {},
   "source": [
    "The Leaky integrate and Fire model is the simplest spiking neuron model. It consists of an RC circuit modelling the cell membrane (leaky integrator) and a delta spike when the membrane voltage reaches a certain threshold.\n",
    "\n",
    "Using [Gerstner and Kistler](http://icwww.epfl.ch/~gerstner/SPNM/node26.html), we can write the LIF model as a differential equation:\n",
    "\n",
    "$$\\frac{dV_m}{dt} = \\frac{1}{\\tau_m} (-V_m + IR_m) $$\n",
    "\n",
    "where $V_m$ $R_m$ and  $C_m$ are the membrane voltage resistance and capacitance resp. and $\\tau_m = R_m \\cdot C_m$ is the membrane time constant.\n",
    "\n",
    "When the membrane voltage exceeds a certain threshold, $V_{th}$, we observe a spike followed by a reset of membrane voltage and a refractory period in which no spike is observed.\n",
    "\n",
    "This allows us to rewrite our differential equation as.\n",
    "\n",
    "$$  \n",
    "    \\frac{dV_m}{dt}=\\left\\{\n",
    "                \\begin{array}{ll}\n",
    "                  \\frac{1}{\\tau_m} (-V_m + IR_m), t>t_{rest}\\\\\n",
    "                  0, otherwise\\\\\n",
    "                \\end{array}\n",
    "              \\right.\n",
    "$$\n",
    "\n",
    "where $t_{rest}$ is the time when the neuron's refractory time ends.\n",
    "\n"
   ]
  },
  {
   "cell_type": "markdown",
   "metadata": {},
   "source": [
    "### Getting realistic parameters using Jan's Data"
   ]
  },
  {
   "cell_type": "markdown",
   "metadata": {},
   "source": [
    "##### Reset potential and Leak Potential"
   ]
  },
  {
   "cell_type": "markdown",
   "metadata": {},
   "source": [
    "It is relatively simple to extract the reset potential - the above model simply goes to zero. This can be taken from the average of the potential inbetween spikes whilst a neuron is being stimulated. Additionally the 'leak potential' can be extracted from the potential before stimulation."
   ]
  },
  {
   "cell_type": "code",
   "execution_count": 3,
   "metadata": {
    "collapsed": false
   },
   "outputs": [
    {
     "name": "stdout",
     "output_type": "stream",
     "text": [
      "(#of sweeps, #number of datapoints)\n",
      "data for PNs\n",
      "(8, 220000)\n",
      "(5, 220000)\n",
      "(7, 220000)\n",
      "(8, 220000)\n",
      "(5, 220000)\n",
      "data for LNs\n",
      "(11, 160000)\n",
      "(15, 160000)\n",
      "(18, 160000)\n",
      "(20, 160000)\n",
      "(8, 160000)\n",
      "(12, 160000)\n",
      "(9, 160000)\n",
      "(10, 160000)\n"
     ]
    }
   ],
   "source": [
    "PN_data = []\n",
    "for dataset,data in enumerate(PNdata):\n",
    "    PN_data.append(data)\n",
    "    \n",
    "LN_data = []\n",
    "for dataset,data in enumerate(LNdata):\n",
    "    LN_data.append(data)\n",
    "print '(#of sweeps,','#number of datapoints)'\n",
    "print 'data for PNs'\n",
    "for dataset in range(len(PN_data)):\n",
    "    print PN_data[dataset].shape\n",
    "print 'data for LNs'   \n",
    "for dataset in range(len(LN_data)):\n",
    "    print LN_data[dataset].shape"
   ]
  },
  {
   "cell_type": "markdown",
   "metadata": {
    "collapsed": false
   },
   "source": [
    "There are 5 recordings for PN neurons with differing numbers of sweeps, and 8 recordings for LN neurons with differing numbers of sweeps. To find the mean reset potential for each recording, need to loop over each sweep for a given recording - mask the spikes - and find the mean potential for each sweep, these in turn are used to find a mean reset potential for each recording. "
   ]
  },
  {
   "cell_type": "code",
   "execution_count": 4,
   "metadata": {
    "collapsed": true
   },
   "outputs": [],
   "source": [
    "def local_maxima(d):\n",
    "    '''\n",
    "    returns bool array with the same shape as `d` with elements at the position of local maxima in `d` are set to `True`\n",
    "    this function simply checks if the neighbouring elements are smaller or equal and is __sensitive to noise__\n",
    "    '''\n",
    "    return r_[True, d[1:] >= d[:-1]] & r_[d[:-1] > d[1:], True]"
   ]
  },
  {
   "cell_type": "code",
   "execution_count": 5,
   "metadata": {
    "collapsed": false
   },
   "outputs": [],
   "source": [
    "def Masker(sweep,stim_start,stim_end):\n",
    "    \"\"\"\n",
    "    function that takes a particular sweep as an input, and returns the mean reset potential \n",
    "    as the output as well as the mean membrane potential.\n",
    "    \n",
    "    Inputs:\n",
    "    -------\n",
    "    sweep : array of a particular sweep (mV)\n",
    "    stim_start : int time at which stimulation started (s)\n",
    "    stim_end : int time at which stimulation ended (s)\n",
    "    \n",
    "    Outputs:\n",
    "    --------\n",
    "    mean reset potential : int (mV)\n",
    "    standard deviation of reset potential : int (mV)\n",
    "    mean membrane potential : int (mV)\n",
    "    standard deviation of membrane potential : int (mV)\n",
    "    \n",
    "    \"\"\"\n",
    "    \n",
    "    idx_stim_start = int(stim_start/dt)\n",
    "    idx_stim_end =   int(stim_end/dt)\n",
    "\n",
    "\n",
    "    th = 0 # use threshold of 0 mV for AP detection. the AP waveform is not very noise so the below works\n",
    "\n",
    "    V_maxima = (local_maxima(V) & (V>th))\n",
    "    indices = V_maxima.nonzero()[0]\n",
    "    #now create a list to store the mask\n",
    "    mask_list = []\n",
    "\n",
    "    idx_spike_start = 200\n",
    "    idx_spike_end = 600\n",
    "    idx_chunk_time = 800\n",
    "\n",
    "    for i in range(idx_chunk_time):\n",
    "        if idx_spike_start <= i <= idx_spike_end:\n",
    "            mask_list.append(1)\n",
    "        else:\n",
    "            mask_list.append(0)\n",
    "            \n",
    "    twenty_ms = dt*400 #20 ms in terms of dt\n",
    "    twenty_ms_idx = int(twenty_ms/dt)#20 ms in terms of indices\n",
    "\n",
    "    for index in range(len(V)):\n",
    "        if index in indices:\n",
    "            start = index-twenty_ms_idx\n",
    "            end = index+twenty_ms_idx\n",
    "            chunk = ma.masked_array(V[start:end],mask = mask_list)\n",
    "            chunk = list(chunk)\n",
    "            V[start:end] = chunk\n",
    "\n",
    "    V_sub_during = ma.array(V[idx_stim_start:idx_stim_end])\n",
    "    \n",
    "    V_sub_before = V[:idx_stim_start]\n",
    "    \n",
    "    return np.nanmean(V_sub_during)/1e-3, np.nanstd(V_sub_during)/1e-3, V_sub_before.mean()/1e-3,V_sub_before.std()/1e-3 "
   ]
  },
  {
   "cell_type": "markdown",
   "metadata": {},
   "source": [
    "We can use the above function to find the mean reset and membrane potentials"
   ]
  },
  {
   "cell_type": "code",
   "execution_count": 6,
   "metadata": {
    "collapsed": false
   },
   "outputs": [
    {
     "name": "stdout",
     "output_type": "stream",
     "text": [
      "Reset Potential (mV)\n",
      "-47.089600563 1.59423591103\n",
      "Membrane Potential (mV)\n",
      "-61.6721242666 0.139364329516\n"
     ]
    },
    {
     "name": "stderr",
     "output_type": "stream",
     "text": [
      "//anaconda/lib/python2.7/site-packages/numpy/ma/core.py:4089: UserWarning: Warning: converting a masked element to nan.\n",
      "  warnings.warn(\"Warning: converting a masked element to nan.\")\n"
     ]
    }
   ],
   "source": [
    "dt = 1/20000 #sampling rate (kHz ^-)\n",
    "stim_start_PN = 3 #seconds\n",
    "stim_end_PN   = 8 #seconds\n",
    "\n",
    "idx_stim_start_PN = int(stim_start_PN/dt)\n",
    "idx_stim_end_PN =   int(stim_end_PN/dt)\n",
    "\n",
    "stim_start_LN = 1 #seconds\n",
    "stim_end_LN   = 5 #seconds\n",
    "\n",
    "idx_stim_start_LN = int(stim_start_LN/dt)\n",
    "idx_stim_end_LN =   int(stim_end_LN/dt)\n",
    "\n",
    "Voltages = []\n",
    "\n",
    "data = PN_data[4] #as a test consider the first recording for the LNs \n",
    "Reset_Potential= []  ##have to change LN -->PN if you want to look at PN data                                              \n",
    "Reset_Potential_std = []\n",
    "\n",
    "Membrane_Potential = []\n",
    "Membrane_Potential_std = []\n",
    "\n",
    "for recording,voltage in enumerate(data):\n",
    "    Voltages.append(voltage)\n",
    "    \n",
    "V = np.empty_like(Voltages[-1])\n",
    "V[:] = Voltages[-1]\n",
    "\n",
    "\n",
    "for dataset in range(len(Voltages)):\n",
    "    V = np.empty_like(Voltages[dataset])\n",
    "    V[:] = Voltages[dataset]\n",
    "    Reset_Potential.append(Masker(V,stim_start_PN,stim_end_PN)[0]) \n",
    "    Reset_Potential_std.append(Masker(V,stim_start_PN,stim_end_PN)[1])\n",
    "    Membrane_Potential.append(Masker(V,stim_start_PN,stim_end_PN)[2])\n",
    "    Membrane_Potential_std.append(Masker(V,stim_start_PN,stim_end_PN)[3])\n",
    "    \n",
    "\n",
    "print 'Reset Potential (mV)'\n",
    "print np.mean(Reset_Potential),np.mean(Reset_Potential_std)\n",
    "print 'Membrane Potential (mV)'\n",
    "print np.mean(Membrane_Potential), np.mean(Membrane_Potential_std)\n"
   ]
  },
  {
   "cell_type": "code",
   "execution_count": 7,
   "metadata": {
    "collapsed": false
   },
   "outputs": [
    {
     "data": {
      "image/png": "[encoded data removed]",
      "text/plain": [
       "<matplotlib.figure.Figure at 0x101b768d0>"
      ]
     },
     "metadata": {},
     "output_type": "display_data"
    },
    {
     "data": {
      "image/png": "[encoded data removed]",
      "text/plain": [
       "<matplotlib.figure.Figure at 0x114a02d10>"
      ]
     },
     "metadata": {},
     "output_type": "display_data"
    }
   ],
   "source": [
    "LN_reset_potentials = [-58,-53,-55,-55,-50,-55,-55,-58]\n",
    "PN_reset_potentials = [-48,-48,-47,-44,-47]\n",
    "\n",
    "LN_membrane_potentials = [-69.6,-71.3,-69.8,-69.7,-66.7,-68.1,-67.8,-67.2]\n",
    "PN_membrane_potentials = [-62.2,-60.0,-61.2,-62.2,-61.7]\n",
    "\n",
    "recording_number_PNs = np.arange(1,6)\n",
    "recording_number_LNs = np.arange(1,9)\n",
    "\n",
    "plt.figure()\n",
    "plt.scatter(recording_number_LNs,LN_reset_potentials,label = 'LN Reset Potentials',color = 'green')\n",
    "plt.scatter(recording_number_LNs,LN_membrane_potentials,label = 'LN membrane Potentials')\n",
    "plt.legend()\n",
    "plt.xlabel('Recording Number')\n",
    "plt.ylabel('Potential (mV)')\n",
    "plt.xlim(0.8,8.2)\n",
    "plt.show()\n",
    "\n",
    "plt.figure()\n",
    "plt.scatter(recording_number_PNs,PN_reset_potentials,label = 'PN Reset Potentials',color = 'green')\n",
    "plt.scatter(recording_number_PNs,PN_membrane_potentials,label = 'PN Membrane Potentials')\n",
    "plt.xlabel('Recording Number')\n",
    "plt.ylabel('Potential (mV)')\n",
    "plt.xlim(0.8,5.2)\n",
    "plt.legend()\n",
    "plt.show()"
   ]
  },
  {
   "cell_type": "markdown",
   "metadata": {},
   "source": [
    "### by membrane potential I mean leak current in the above, need to change."
   ]
  },
  {
   "cell_type": "markdown",
   "metadata": {},
   "source": [
    "##### Threshold"
   ]
  },
  {
   "cell_type": "markdown",
   "metadata": {},
   "source": [
    "Try and find a good definition of threshold for each recording. Can start off by assuming that the threshold is given by the maximum of the derivative of the membrane potential (NOT the same definition as used previously (where I mean Leak Current - need to redefine at some point to avoid confusion), here it is just the potential measured across the membran - regardless of whether or not a stimulus is being applied)"
   ]
  },
  {
   "cell_type": "code",
   "execution_count": 8,
   "metadata": {
    "collapsed": true
   },
   "outputs": [],
   "source": [
    "def thresh_detect(sweep):\n",
    "    \"\"\"\n",
    "    Function to plot the distributions of the threshold voltage as well as return the mean \n",
    "    value of the threshold for a particular sweep.\n",
    "    \n",
    "    Input:\n",
    "    ------\n",
    "    sweep : an array containing the data for a particular sweep\n",
    "    \n",
    "    Output:\n",
    "    -------\n",
    "    plot 1 : frequency distribution of the threshold voltages\n",
    "    Mean Value of threshold : for a given sweep.\n",
    "    \"\"\"\n",
    "\n",
    "    chunk_list_dash = []\n",
    "    chunk_list_dash_idx = []\n",
    "    V_unmasked = sweep\n",
    "\n",
    "    V = V_unmasked\n",
    "\n",
    "    th = 0 # use threshold of 0 mV for AP detection. the AP waveform is not very noise so the below works\n",
    "    V_maxima = (local_maxima(V) & (V>th))\n",
    "    indices = V_maxima.nonzero()[0]\n",
    "    twenty_ms = dt*400 #20 ms in terms of dt\n",
    "    twenty_ms_idx = int(twenty_ms/dt)#20 ms in terms of indices\n",
    "\n",
    "\n",
    "    chunk_list_dash = []\n",
    "    chunk_list_dash_idx = []\n",
    "\n",
    "    for index in range(len(V)):\n",
    "        if index in indices:\n",
    "            start = index-twenty_ms_idx\n",
    "            end = index+twenty_ms_idx\n",
    "            chunk = V_unmasked[start:end]\n",
    "            chunk = list(chunk)\n",
    "            chunk_idx = np.arange(start,end)\n",
    "            chunk_dash = np.diff(chunk)\n",
    "            chunk_list_dash.append(chunk_dash)\n",
    "            chunk_list_dash_idx.append(chunk_idx)\n",
    "\n",
    "\n",
    "    V_dash_idx = [] #list of derivatives with associated indices for each spike\n",
    "\n",
    "    for chunk_dash in range(len(chunk_list_dash)):\n",
    "        tuples = zip(chunk_list_dash[chunk_dash],chunk_list_dash_idx[chunk_dash])\n",
    "        V_dash_idx.append(tuples)\n",
    "\n",
    "\n",
    "    V_idx = [[] for x in xrange(len(V_dash_idx))]\n",
    "\n",
    "    for V_dash_chunk in range(len(V_dash_idx)):\n",
    "        for step in range(len(V_dash_idx[V_dash_chunk])):\n",
    "            if V_dash_idx[V_dash_chunk][step][0] >= max(chunk_list_dash[V_dash_chunk]):\n",
    "                V_idx[V_dash_chunk].append(V_dash_idx[V_dash_chunk][step][1])\n",
    "\n",
    "\n",
    "\n",
    "    V_idx_first = [] # indices where threshold is crossed according to our condition.\n",
    "\n",
    "    for index_list in range(len(V_idx)):\n",
    "        V_idx_first.append(V_idx[index_list][0])\n",
    "\n",
    "\n",
    "    # now just need to find V values that correspond to the indices in V_idx_first\n",
    "    V_thresh = [] #list to store all the threshold values of V, whenever the above condition is hit\n",
    "\n",
    "    for index in V_idx_first:\n",
    "        V_thresh.append(V_unmasked[index])\n",
    "\n",
    "    spike_number = np.arange(0,71)    \n",
    "\n",
    "    from scipy.stats import norm\n",
    "\n",
    "    plt.figure()\n",
    "    sns.distplot(V_thresh,fit = norm,kde = False)\n",
    "    plt.xlabel('Threshold Voltage (V)')\n",
    "    plt.ylabel('Frequency')\n",
    "    plt.show()\n",
    "\n",
    "    return 'Mean Value of threshold', np.mean(V_thresh)"
   ]
  },
  {
   "cell_type": "markdown",
   "metadata": {},
   "source": [
    "##### membrane resistance"
   ]
  },
  {
   "cell_type": "markdown",
   "metadata": {},
   "source": [
    "Resistance and capicatance can be extracted from the membrane time constant $\\tau_m = C_m \\cdot R_m$, and a knowledge of the membrane current.\n",
    "\n",
    "Use definition of $\\tau_m$ as when the membrane potential reaches $1-\\frac{1}{e}$ of max value. Below I've found $\\tau  $ for the first spike in one just one of the data sets. Can rewrite into a function that takes an input of a sweep as above."
   ]
  },
  {
   "cell_type": "code",
   "execution_count": 222,
   "metadata": {
    "collapsed": false,
    "scrolled": true
   },
   "outputs": [
    {
     "data": {
      "image/png": "[encoded data removed]",
      "text/plain": [
       "<matplotlib.figure.Figure at 0x11696d190>"
      ]
     },
     "metadata": {},
     "output_type": "display_data"
    },
    {
     "name": "stdout",
     "output_type": "stream",
     "text": [
      "membrane time constant: 0.0434 (s)\n"
     ]
    }
   ],
   "source": [
    "twenty_ms = dt*400 #20 ms in terms of dt\n",
    "twenty_ms_idx = int(twenty_ms/dt)#20 ms in terms of indices\n",
    "\n",
    "\n",
    "V_unmasked = data[4]\n",
    "\n",
    "V = V_unmasked\n",
    "\n",
    "th = 0 # use threshold of 0 mV for AP detection. the AP waveform is not very noise so the below works\n",
    "V_maxima = (local_maxima(V) & (V>th))\n",
    "indices = V_maxima.nonzero()[0]\n",
    "first_spike_loc = indices[0]\n",
    "injection_start = first_spike_loc - twenty_sevn_5_idx\n",
    "\n",
    "\n",
    "first_injection = np.empty_like(V_unmasked[injection_start:first_spike_loc-twenty_ms_idx])\n",
    "first_injection[:] = V_unmasked[injection_start:first_spike_loc-twenty_ms_idx]\n",
    "\n",
    "normalised_first_injection = first_injection-min_value\n",
    "min_value = min(first_injection)\n",
    "max_value = max(first_injection)\n",
    "tau_voltage_normalised = ( max_value-min_value)*0.66\n",
    "\n",
    "\n",
    "T = len(first_injection)*dt\n",
    "t = arange(0,T,dt)\n",
    "\n",
    "plt.figure()\n",
    "plt.xlabel('time (s)')\n",
    "plt.ylabel('membrane potential (mV)')\n",
    "plt.plot(t,first_injection)\n",
    "plt.show()\n",
    "\n",
    "#write loop to give me location of first index above which time constant\n",
    "#voltage value is reached\n",
    "\n",
    "indices = []\n",
    "\n",
    "for idx,voltage in enumerate(normalised_first_injection):\n",
    "    if voltage >= tau_voltage_normalised:\n",
    "        indices.append(idx)\n",
    "        \n",
    "tau_idx = indices[0]\n",
    "\n",
    "print 'membrane time constant:', t[tau_idx],'(s)'\n"
   ]
  },
  {
   "cell_type": "markdown",
   "metadata": {},
   "source": [
    "using the knowledge of the time constant, we can figure out capacitance. Resistance can be calculated by using\n",
    "\n",
    "$$ V_{\\infty} = E_{leak} + R_m I_{holding} $$. ?\n",
    "\n"
   ]
  },
  {
   "cell_type": "code",
   "execution_count": null,
   "metadata": {
    "collapsed": true
   },
   "outputs": [],
   "source": []
  },
  {
   "cell_type": "markdown",
   "metadata": {},
   "source": [
    "##### membrane capacitance"
   ]
  },
  {
   "cell_type": "code",
   "execution_count": null,
   "metadata": {
    "collapsed": true
   },
   "outputs": [],
   "source": [
    "#requires knowledge of membrane resistance, then can calculate from the time constant.\n"
   ]
  },
  {
   "cell_type": "markdown",
   "metadata": {},
   "source": [
    "##### refractory time"
   ]
  },
  {
   "cell_type": "code",
   "execution_count": null,
   "metadata": {
    "collapsed": true
   },
   "outputs": [],
   "source": [
    "#relatively easy to figure out... \n",
    "#leave till last"
   ]
  },
  {
   "cell_type": "markdown",
   "metadata": {},
   "source": [
    "### Applying to the LIF model"
   ]
  },
  {
   "cell_type": "markdown",
   "metadata": {},
   "source": [
    "Can finally plug in all of our parameters into a LIF model...\n"
   ]
  },
  {
   "cell_type": "code",
   "execution_count": null,
   "metadata": {
    "collapsed": false
   },
   "outputs": [],
   "source": [
    "# initial parameters\n",
    "\n",
    "T = 4 #total time of stimulation (ms) ## 5 for PNs, 4 for LNs\n",
    "dt = 1/20000 #timestep (ms)\n",
    "t_ref = 0 #initial refractory time, \n",
    "time = np.arange(0,T,dt) #array of stimulation time, in terms of timestep\n",
    "t_rest = 0 #initial refractory time\n",
    "\n",
    "# properties of membrane\n",
    "\n",
    "V_m = np.zeros(len(time)) #array of voltage values to be filled (mV)\n",
    "\n",
    "R_m = 50 # have to find using Ohm's law\n",
    "\n",
    "C_m = 30 # chack Jan's thesis\n",
    "\n",
    "tau_m = R_m * C_m #membrane time constant\n",
    "\n",
    "tau_ref = 4 # how to define this well using our data ?\n",
    "\n",
    "V_th = 1 #threshold\n",
    "\n",
    "V_spike = 0.5 #spike delta (mV)\n",
    "\n",
    "#Step stimulus\n",
    "\n",
    "I = 100 # use the info provided by Jan\n",
    "\n"
   ]
  },
  {
   "cell_type": "code",
   "execution_count": null,
   "metadata": {
    "collapsed": true
   },
   "outputs": [],
   "source": [
    "for i, t in enumerate(time): \n",
    "    if t > t_rest:\n",
    "        V_m[i] = V_m[i-1] + (-V_m[i-1] + I*R_m) / tau_m * dt\n",
    "        if V_m[i] >= V_th:\n",
    "            V_m[i] += V_spike\n",
    "            t_rest = t + tau_ref\n",
    "     "
   ]
  },
  {
   "cell_type": "code",
   "execution_count": null,
   "metadata": {
    "collapsed": true
   },
   "outputs": [],
   "source": [
    "fig = plt.figure()\n",
    "plt.plot(time,V_m)\n",
    "plt.show()"
   ]
  }
 ],
 "metadata": {
  "kernelspec": {
   "display_name": "Python 2",
   "language": "python",
   "name": "python2"
  },
  "language_info": {
   "codemirror_mode": {
    "name": "ipython",
    "version": 2
   },
   "file_extension": ".py",
   "mimetype": "text/x-python",
   "name": "python",
   "nbconvert_exporter": "python",
   "pygments_lexer": "ipython2",
   "version": "2.7.11"
  }
 },
 "nbformat": 4,
 "nbformat_minor": 0
}
