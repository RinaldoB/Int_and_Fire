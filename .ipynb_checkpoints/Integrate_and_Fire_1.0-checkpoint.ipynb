{
 "cells": [
  {
   "cell_type": "code",
   "execution_count": 88,
   "metadata": {
    "collapsed": true
   },
   "outputs": [],
   "source": [
    "%matplotlib inline\n",
    "import numpy as np\n",
    "import matplotlib.pyplot as plt\n",
    "import seaborn as sns\n",
    "import cPickle as pickle\n",
    "import gzip \n",
    "from pylab import *\n",
    "from __future__ import division"
   ]
  },
  {
   "cell_type": "code",
   "execution_count": 89,
   "metadata": {
    "collapsed": true
   },
   "outputs": [],
   "source": [
    "PNdata = pickle.load(gzip.open('/Users/Sri/Desktop/Int_and_Fire/Data/PNdata.pklz'))\n",
    "pulse_labelsPN = pickle.load(gzip.open('/Users/Sri/Desktop/Int_and_Fire/Data/pulselabelsPN.pklz','rb'))\n",
    "number_of_datasetsPN = 5\n",
    "\n",
    "LNdata = pickle.load(gzip.open('/Users/Sri/Desktop/Int_and_Fire/Data/LNdata.pklz','rb'))\n",
    "pulse_labelsLN = pickle.load(gzip.open('/Users/Sri/Desktop/Int_and_Fire/Data/pulselabelsLN.pklz','rb'))\n",
    "number_of_datasetsLN = 8"
   ]
  },
  {
   "cell_type": "markdown",
   "metadata": {},
   "source": [
    "### Leaky Integrate and Fire Model (LIF)"
   ]
  },
  {
   "cell_type": "markdown",
   "metadata": {},
   "source": [
    "The leaky integrate and fire model consists of a 1st order inhomogenous differential equation and a fire & reset rule. $$C_m\\frac{dV_m}{dt} = g_l(V_{eq} - V_m) $$\n",
    "\n",
    "1. $C_m$ : membrane capacitance\n",
    "2. $V_m$ : membrane potential\n",
    "3. $g_l$ : membrane conductance ($1/R_m$ - membrane resistance)\n",
    "4. $V_{eq}$ : equilibrium potential (i.e. potential when membrane is at rest)\n",
    "\n",
    "\n",
    "When the membrane voltage exceeds a certain threshold, $V_{th}$, we observe a spike followed by a reset of membrane potential to the reset potential $V_{res}$, followed by a refractory period in which a spike cannot be observed.\n",
    "\n",
    "This allows us to rewrite our differential equation as.\n",
    "\n",
    "$$  \n",
    "    \\frac{dV_m}{dt}=\\left\\{\n",
    "                \\begin{array}{ll}\n",
    "                  \\frac{1}{\\tau_m} (-V_m + IR_m), t>t_{rest}\\\\\n",
    "                  V_{eq}, otherwise\\\\\n",
    "                \\end{array}\n",
    "              \\right.\n",
    "$$\n",
    "\n",
    "with a solution given by.\n",
    "\n",
    "$$V(t) = V_{eq} (1-\\exp({\\frac{-t}{\\tau_m}})) + R_m I ( 1-\\exp({\\frac{-t}{\\tau_m}}))$$\n",
    "\n",
    "for long times this reduces to\n",
    "\n",
    "$$V_h = V_{eq} + R_mI_h $$where $$V(t \\rightarrow \\infty) = V_h $$\n",
    "\n",
    "\n",
    "\n",
    "\n",
    "1. $\\tau_m$ : membrane time constant\n",
    "2. $V_h$ : holding potential\n",
    "3. $I_h$ : holding current\n",
    "\n",
    " \n",
    "To fit a LIF model to Jan's recorded data for LNs and PNs, we need to extract the model parameters. Specifically,\n",
    "\n",
    "1. $V_{th}$\n",
    "2. $V_{res}$\n",
    "3. $\\tau_m$\n",
    "4. $R_m$\n",
    "5. $C_m$\n"
   ]
  },
  {
   "cell_type": "markdown",
   "metadata": {},
   "source": [
    "### Parameter Extraction"
   ]
  },
  {
   "cell_type": "code",
   "execution_count": 90,
   "metadata": {
    "collapsed": false
   },
   "outputs": [
    {
     "name": "stdout",
     "output_type": "stream",
     "text": [
      "(#of sweeps, #number of datapoints)\n",
      "data for PNs\n",
      "(8, 220000)\n",
      "(5, 220000)\n",
      "(7, 220000)\n",
      "(8, 220000)\n",
      "(5, 220000)\n",
      "data for LNs\n",
      "(11, 160000)\n",
      "(15, 160000)\n",
      "(18, 160000)\n",
      "(20, 160000)\n",
      "(8, 160000)\n",
      "(12, 160000)\n",
      "(9, 160000)\n",
      "(10, 160000)\n"
     ]
    }
   ],
   "source": [
    "#look at data shape\n",
    "PN_data = []\n",
    "for dataset,data in enumerate(PNdata):\n",
    "    PN_data.append(data)\n",
    "    \n",
    "LN_data = []\n",
    "for dataset,data in enumerate(LNdata):\n",
    "    LN_data.append(data)\n",
    "print '(#of sweeps,','#number of datapoints)'\n",
    "print 'data for PNs'\n",
    "for dataset in range(len(PN_data)):\n",
    "    print PN_data[dataset].shape\n",
    "print 'data for LNs'   \n",
    "for dataset in range(len(LN_data)):\n",
    "    print LN_data[dataset].shape"
   ]
  },
  {
   "cell_type": "code",
   "execution_count": 91,
   "metadata": {
    "collapsed": true
   },
   "outputs": [],
   "source": [
    "def local_maxima(d):\n",
    "    '''\n",
    "    returns bool array with the same shape as `d` with elements at the position of local maxima in `d` are set to `True`\n",
    "    this function simply checks if the neighbouring elements are smaller or equal and is __sensitive to noise__\n",
    "    '''\n",
    "    return r_[True, d[1:] >= d[:-1]] & r_[d[:-1] > d[1:], True]"
   ]
  },
  {
   "cell_type": "markdown",
   "metadata": {},
   "source": [
    " #### Reset Potential $V_{res}$ & Equilibrium Potential $V_{eq}$"
   ]
  },
  {
   "cell_type": "markdown",
   "metadata": {},
   "source": [
    "__Reset potential__ $V_{res}$ can be calculated from the minimum of the membrane potential after a spike has occurred. We can look at these minimas for a a particular sweep and use them to calculate an average and a standard deviation. Here it is calculated using the ```reset ``` function.\n",
    "\n"
   ]
  },
  {
   "cell_type": "code",
   "execution_count": 92,
   "metadata": {
    "collapsed": false
   },
   "outputs": [],
   "source": [
    "def reset(sweep):\n",
    "    \"\"\"\n",
    "    Function to take an input of a sweep and return an integer value of the mean reset potential for that sweep \n",
    "    along with its standard deviation in mV.\n",
    "    \n",
    "    Inputs:\n",
    "    -------\n",
    "    sweep : array like\n",
    "    \n",
    "    Outputs:\n",
    "    --------\n",
    "    Mean Reset Potential : float\n",
    "    Standard Dev of Reset Potential : float\n",
    "    \n",
    "    \"\"\"\n",
    "    dt = 1/20000 #1/sampling rate (Hz)\n",
    "    th = 0 # use threshold of 0 mV for AP detection. the AP waveform is not very noise so the below works\n",
    "    \n",
    "    V = sweep\n",
    "    V_maxima = (local_maxima(V) & (V>th))\n",
    "    indices = V_maxima.nonzero()[0]\n",
    "    \n",
    "    chunk_list = [] #chunk of spectrum for each action potential\n",
    "    time_list = [] #the times for each action potential\n",
    "\n",
    "    ten_ms = dt*200 #10 ms in terms of dt\n",
    "\n",
    "    ten_ms_idx = int(ten_ms/dt)#10 ms in terms of indices\n",
    "\n",
    "    for index in indices:\n",
    "        start = index-ten_ms_idx\n",
    "        end = index+ten_ms_idx\n",
    "        chunk = V[start:end]\n",
    "        time = np.arange(start,end)\n",
    "        chunk_list.append(chunk)\n",
    "        time_list.append(time)    \n",
    "        \n",
    "    average_waveform = np.mean(chunk_list,axis = 0) #calculating the average waveform by averaging over the chunks\n",
    "\n",
    "    time = len(average_waveform)*dt\n",
    "    time = np.arange(0,time,dt)\n",
    "\n",
    "    reordered_chunks = [[] for x in xrange(len(average_waveform))] \n",
    "\n",
    "    for waveform in range(len(chunk_list)):\n",
    "        for chunk in range(len(average_waveform)):\n",
    "            reordered_chunks[chunk].append(chunk_list[waveform][chunk])\n",
    "\n",
    "    mean_waveform = []\n",
    "    std_dev = []\n",
    "\n",
    "    for chunk in range(len(reordered_chunks)):\n",
    "        mean_waveform.append(np.mean(reordered_chunks[chunk]))\n",
    "        std_dev.append(np.std(reordered_chunks[chunk]))\n",
    "\n",
    "    return float(format(min(mean_waveform),'.3f'))*1e3,float(format(max(std_dev),'.3f'))*1e3\n",
    "    \n"
   ]
  },
  {
   "cell_type": "markdown",
   "metadata": {},
   "source": [
    "__Equilibrium potential__ $V_{eq}$ can be calculated from the mean of the membrane potential pre-stimulation. Here it is calculated using the ```equilibium ``` function."
   ]
  },
  {
   "cell_type": "code",
   "execution_count": 93,
   "metadata": {
    "collapsed": false
   },
   "outputs": [],
   "source": [
    "def equilibrium(sweep,stim_start):\n",
    "    \"\"\"\n",
    "    function that takes a particular sweep as an input, and returns the equilibrium in mV\n",
    "    \n",
    "    Inputs:\n",
    "    -------\n",
    "    sweep : array of a particular sweep (mV)\n",
    "    stim_start : float time at which stimulation started (s)\n",
    "    \n",
    "    Outputs:\n",
    "    --------\n",
    "    mean reset potential : float (mV)\n",
    "    standard deviation of reset potential : float (mV)\n",
    "    mean membrane potential : float (mV)\n",
    "    standard deviation of membrane potential : float (mV)\n",
    "    \n",
    "    \"\"\"\n",
    "    \n",
    "    dt = 1/20000 # 1/sampling frequency (Hz)\n",
    "    \n",
    "    V = sweep\n",
    "    \n",
    "    idx_stim_start = int(stim_start/dt)\n",
    "\n",
    "    V_sub_before = V[:idx_stim_start]\n",
    "    \n",
    "    return V_sub_before.mean()/1e-3,V_sub_before.std()/1e-3\n",
    "        "
   ]
  },
  {
   "cell_type": "markdown",
   "metadata": {},
   "source": [
    "can extend the ```equilibrium ``` function above with the ```mean_equilibrium``` function, which can find the average of the equilibrium potential over all the sweeps of a particular recording.\n"
   ]
  },
  {
   "cell_type": "code",
   "execution_count": 94,
   "metadata": {
    "collapsed": false
   },
   "outputs": [],
   "source": [
    "dt = 1/20000 #1/sampling frequency (Hz)\n",
    "\n",
    "stim_start_PN = 3 #seconds\n",
    "stim_end_PN   = 8 #seconds\n",
    "\n",
    "idx_stim_start_PN = int(stim_start_PN/dt)\n",
    "idx_stim_end_PN =   int(stim_end_PN/dt)\n",
    "\n",
    "stim_start_LN = 1 #seconds\n",
    "stim_end_LN   = 5 #seconds\n",
    "\n",
    "idx_stim_start_LN = int(stim_start_LN/dt)\n",
    "idx_stim_end_LN =   int(stim_end_LN/dt)"
   ]
  },
  {
   "cell_type": "code",
   "execution_count": 95,
   "metadata": {
    "collapsed": false
   },
   "outputs": [],
   "source": [
    "def mean_equilibrium(recording,stim_start):\n",
    "    \"\"\"\n",
    "    Function that takes a set of sweeps, or recording, as an input and returns the mean equilibrium potential \n",
    "    over all of the recordings.\n",
    "    \n",
    "    Inputs:\n",
    "    -------\n",
    "    recording : list of lists\n",
    "    stim_start : time in seconds of when the stimulation starts\n",
    "    \n",
    "    Outputs:\n",
    "    --------\n",
    "    Mean Equilibrium potential : float\n",
    "    Standard Devitation of Equilibrium Potential : float\n",
    "    \n",
    "    \"\"\"\n",
    "    Voltages = []\n",
    "    \n",
    "    data = recording\n",
    "        \n",
    "    Equilibrium_Potential = []\n",
    "    Equilibrium_Potential_std = []\n",
    "    \n",
    "    for recording,voltage in enumerate(data):\n",
    "        Voltages.append(voltage)\n",
    "        \n",
    "\n",
    "    for dataset in range(len(Voltages)):\n",
    "        V = np.empty_like(Voltages[dataset])\n",
    "        V[:] = Voltages[dataset]\n",
    "        Equilibrium_Potential.append(equilibrium(Voltages[dataset],stim_start)[0])\n",
    "        Equilibrium_Potential_std.append(equilibrium(Voltages[dataset],stim_start)[1])\n",
    "\n",
    "                \n",
    "    return np.mean(Equilibrium_Potential), np.mean(Equilibrium_Potential_std)\n"
   ]
  },
  {
   "cell_type": "markdown",
   "metadata": {},
   "source": [
    "#### Threshold Potential $V_{th}$"
   ]
  },
  {
   "cell_type": "markdown",
   "metadata": {},
   "source": [
    "We assume that the threshold is given by the maximum of the derivative of the membrane potential $\\frac{dV_m}{dt}$. We can use the ```threshold``` function to find the threshold for a particular sweep"
   ]
  },
  {
   "cell_type": "code",
   "execution_count": 96,
   "metadata": {
    "collapsed": false,
    "scrolled": true
   },
   "outputs": [],
   "source": [
    "def threshold(sweep):\n",
    "    \"\"\"\n",
    "    Function to plot the distributions of the threshold voltage as well as return the mean \n",
    "    value of the threshold for a particular sweep.\n",
    "    \n",
    "    Input:\n",
    "    ------\n",
    "    sweep : an array containing the data for a particular sweep\n",
    "    \n",
    "    Output:\n",
    "    -------\n",
    "    plot : figure displaying frequency distribution of the threshold voltages\n",
    "    Mean Value of threshold : float (mV)\n",
    "    \"\"\"\n",
    "\n",
    "    chunk_list_dash = []\n",
    "    chunk_list_dash_idx = []\n",
    "    V_unmasked = sweep\n",
    "\n",
    "    V = V_unmasked\n",
    "\n",
    "    th = 0 # use threshold of 0 mV for AP detection. the AP waveform is not very noise so the below works\n",
    "    V_maxima = (local_maxima(V) & (V>th))\n",
    "    indices = V_maxima.nonzero()[0]\n",
    "    twenty_ms = dt*400 #20 ms in terms of dt\n",
    "    twenty_ms_idx = int(twenty_ms/dt)#20 ms in terms of indices\n",
    "\n",
    "\n",
    "    chunk_list_dash = []\n",
    "    chunk_list_dash_idx = []\n",
    "\n",
    "    for index in range(len(V)):\n",
    "        if index in indices:\n",
    "            start = index-twenty_ms_idx\n",
    "            end = index+twenty_ms_idx\n",
    "            chunk = V_unmasked[start:end]\n",
    "            chunk = list(chunk)\n",
    "            chunk_idx = np.arange(start,end)\n",
    "            chunk_dash = np.diff(chunk)\n",
    "            chunk_list_dash.append(chunk_dash)\n",
    "            chunk_list_dash_idx.append(chunk_idx)\n",
    "\n",
    "\n",
    "    V_dash_idx = [] #list of derivatives with associated indices for each spike\n",
    "\n",
    "    for chunk_dash in range(len(chunk_list_dash)):\n",
    "        tuples = zip(chunk_list_dash[chunk_dash],chunk_list_dash_idx[chunk_dash])\n",
    "        V_dash_idx.append(tuples)\n",
    "\n",
    "\n",
    "    V_idx = [[] for x in xrange(len(V_dash_idx))]\n",
    "\n",
    "    for V_dash_chunk in range(len(V_dash_idx)):\n",
    "        for step in range(len(V_dash_idx[V_dash_chunk])):\n",
    "            if V_dash_idx[V_dash_chunk][step][0] >= max(chunk_list_dash[V_dash_chunk]):\n",
    "                V_idx[V_dash_chunk].append(V_dash_idx[V_dash_chunk][step][1])\n",
    "\n",
    "\n",
    "\n",
    "    V_idx_first = [] # indices where threshold is crossed according to our condition.\n",
    "\n",
    "    for index_list in range(len(V_idx)):\n",
    "        V_idx_first.append(V_idx[index_list][0])\n",
    "\n",
    "\n",
    "    # now just need to find V values that correspond to the indices in V_idx_first\n",
    "    V_thresh = [] #list to store all the threshold values of V, whenever the above condition is hit\n",
    "\n",
    "    for index in V_idx_first:\n",
    "        V_thresh.append(V_unmasked[index])\n",
    "\n",
    "    spike_number = np.arange(0,71)    \n",
    "\n",
    "    from scipy.stats import norm\n",
    "\n",
    "    plt.figure()\n",
    "    sns.distplot(V_thresh,fit = norm,kde = False)\n",
    "    plt.xlabel('Threshold Voltage (V)')\n",
    "    plt.ylabel('Frequency')\n",
    "    plt.show()\n",
    "\n",
    "    return np.mean(V_thresh)*1e3\n"
   ]
  },
  {
   "cell_type": "markdown",
   "metadata": {},
   "source": [
    "#### Time Constant  $\\tau_m$"
   ]
  },
  {
   "cell_type": "markdown",
   "metadata": {},
   "source": [
    "The time constant is calculated from the subthreshold data. We define the time constant to be the time it takes for the membrane potential $V_m$ to reach $1-\\frac{1}{e}$ of its maximum value. Looking at the subthreshold data for the LNs and PNs."
   ]
  },
  {
   "cell_type": "code",
   "execution_count": 97,
   "metadata": {
    "collapsed": false
   },
   "outputs": [
    {
     "data": {
      "image/png": "[encoded data removed]",
      "text/plain": [
       "<matplotlib.figure.Figure at 0x11a408050>"
      ]
     },
     "metadata": {},
     "output_type": "display_data"
    },
    {
     "data": {
      "image/png": "[encoded data removed]",
      "text/plain": [
       "<matplotlib.figure.Figure at 0x11561ec50>"
      ]
     },
     "metadata": {},
     "output_type": "display_data"
    }
   ],
   "source": [
    "Tpn = 220000*dt\n",
    "Tln = 160000*dt\n",
    "tpn = np.arange(0,Tpn,dt)\n",
    "tln = np.arange(0,Tln,dt)\n",
    "figure()\n",
    "plot(tpn*1e3,PN_data[0][0]*1e3)\n",
    "xlabel('Time (ms)')\n",
    "xlim(0,11000)\n",
    "title('Subthreshold PN example')\n",
    "ylabel('Membrane Potential $V_m$ (mV)')\n",
    "show()\n",
    "\n",
    "figure()\n",
    "plot(tln*1e3,LN_data[0][1]*1e3)\n",
    "xlabel('Time (ms)')\n",
    "ylabel('Membrane Potential $V_m$ (mV)')\n",
    "title('Subthreshold LN example')\n",
    "show()\n"
   ]
  },
  {
   "cell_type": "markdown",
   "metadata": {},
   "source": [
    "There are clearly some features in the membrane potential over a longer timescale than the time constant, which we expect to be over the order of 10 ms. Therefore to extract the time constant we constant by considering the membrane potential during a much smaller time scale - of the order of 50-60 ms after the beginning of the stimulus. We do this using the ```time_constant``` function."
   ]
  },
  {
   "cell_type": "code",
   "execution_count": 98,
   "metadata": {
    "collapsed": false
   },
   "outputs": [
    {
     "data": {
      "text/plain": [
       "5.45"
      ]
     },
     "execution_count": 98,
     "metadata": {},
     "output_type": "execute_result"
    }
   ],
   "source": [
    "def time_constant(sub_thresh_sweep,stim_start):\n",
    "    \"\"\"\n",
    "    Function to take a subthreshold sweep of either LNs or PNs and return the time constant using the above definition\n",
    "    in ms\n",
    "    \n",
    "    Inputs:\n",
    "    -------\n",
    "    sub_thresh_sweep : an array containing the data for a subthreshold sweep.\n",
    "    stim_start : float, time in seconds of when the stimulus starts\n",
    "    \n",
    "    Outputs:\n",
    "    --------\n",
    "    time_constant : float (ms)\n",
    "    \"\"\"\n",
    "    hundred_ms = 100\n",
    "    idx_hundred_ms = 100/(dt*1e3)\n",
    "    idx_stim_start= int(stim_start/dt)\n",
    "\n",
    "    V = sub_thresh_sweep\n",
    "    \n",
    "    V_time_constant = np.empty_like(V)  #bit of membrane potential which we want to calculate the time constant from\n",
    "    V_time_constant[:] = V\n",
    "    \n",
    "    V_time_constant = V_time_constant[idx_stim_start:int(idx_stim_start+idx_hundred_ms)]\n",
    "    \n",
    "    V_time_constant = V_time_constant-min(V_time_constant)\n",
    "    \n",
    "    # now find the membrane potential which corresponds to time constant\n",
    "\n",
    "    tau_Vm = 0.66 * max(V_time_constant)\n",
    "    \n",
    "    # find the corresponding time for this potential\n",
    "    tau_idx = []\n",
    "    for voltages in range(len(V_time_constant)):\n",
    "        if V_time_constant[voltages] >= tau_Vm:\n",
    "            tau_idx.append(voltages)\n",
    "    \n",
    "    return tau_idx[0]*dt*1e3\n",
    "\n",
    "\n",
    "time_constant(PN_data[0][0],stim_start_PN)\n"
   ]
  },
  {
   "cell_type": "markdown",
   "metadata": {},
   "source": [
    "#### Membrane Resistance $R_m$"
   ]
  },
  {
   "cell_type": "markdown",
   "metadata": {},
   "source": [
    "The membrane resistance can be calculated in the limit for long times, where the solution to the LIF differential equation reduces to \n",
    "\n",
    "$$V_h = V_{eq} + R_mI_h $$\n",
    "\n",
    "This requires knowledge of the holding current, which we only have access to for the LNs. If we know the holding current, then membrane resistance is simply\n",
    "\n",
    "$$ R_m = \\frac{V_h - V_{eq}}{I_h} = \\frac{\\Delta V}{I_h} $$\n",
    "\n",
    "where $I_h$ is the holding current and $V_h$ is the holding potential. This is before the 50pA depolarising steps are applied. When these are applied the equation goes to\n",
    "\n",
    "$$V_s - V_h = R_m I_s $$\n",
    "\n",
    "$$R_m = \\frac{V_s - V_h}{I_s} $$\n",
    "\n",
    "where the $s$ subscript stands for subthreshold. Using the latter equation we can calculate $R_m$ and subsequently $C_m$ using the time constant. We calculate the $R_m$ using the ```resistance ``` function."
   ]
  },
  {
   "cell_type": "markdown",
   "metadata": {},
   "source": [
    "The cell beneath contains the holding currents for each of the LN datasets, as well as a list of the current steps from the 50pA depolarising steps."
   ]
  },
  {
   "cell_type": "code",
   "execution_count": 99,
   "metadata": {
    "collapsed": true
   },
   "outputs": [],
   "source": [
    "holding_currents = [34,-66,-110,20,-120,-86,-52,-104] #holding (initial) injection current for each dataset\n",
    "\n",
    "LNcurrents = [[] for x in xrange(number_of_datasetsLN)]\n",
    "\n",
    "LNdatalength = []\n",
    "\n",
    "for i in range(number_of_datasetsLN):\n",
    "    LNdatalength.append(len(LNdata[i]))\n",
    "\n",
    "for dataset in range(number_of_datasetsLN):\n",
    "    LNcurrents[dataset].append(np.arange(holding_currents[dataset],holding_currents[dataset]+50*LNdatalength[dataset],50))\n",
    "\n",
    "LNcurrent_list = [[] for x in xrange(number_of_datasetsLN)]\n",
    "for dataset in range(number_of_datasetsLN):\n",
    "    LNcurrent_list[dataset].append(LNcurrents[dataset][0].tolist())"
   ]
  },
  {
   "cell_type": "code",
   "execution_count": 100,
   "metadata": {
    "collapsed": false
   },
   "outputs": [
    {
     "data": {
      "text/plain": [
       "2.0560328138663486"
      ]
     },
     "execution_count": 100,
     "metadata": {},
     "output_type": "execute_result"
    }
   ],
   "source": [
    "def resistance(sub_thresh_sweep,I_h):\n",
    "    \"\"\"\n",
    "    Function to take a subthreshold LN sweep and return the membrane resistance using the above definition in giga Ohms\n",
    "    \n",
    "    Inputs:\n",
    "    -------\n",
    "    sub_thresh_sweep : array of sweep (mV)\n",
    "    I_h : holding current (pA)\n",
    "    \n",
    "    Outputs:\n",
    "    --------\n",
    "    \n",
    "    membrane resistance : float, membrane resistance in giga Ohms\n",
    "    \"\"\"\n",
    "    \n",
    "    V = sub_thresh_sweep\n",
    "    hundred_ms = 100\n",
    "    idx_hundred_ms = 100/(dt*1e3)\n",
    "    \n",
    "    V_h = equilibrium(V,stim_start_LN)[0]\n",
    "    \n",
    "    V_s = np.empty_like(V[idx_stim_start_LN:int(idx_stim_start_LN+idx_hundred_ms)])  #bit of membrane potential which we want to calculate the time constant from\n",
    "    V_s[:] = V[idx_stim_start_LN:int(idx_stim_start_LN+idx_hundred_ms)]\n",
    "    \n",
    "    \n",
    "    V_S = float(np.mean(V_s))\n",
    "    R_m = (V_S - V_h)/I_h\n",
    "\n",
    "    return R_m\n",
    "    figure()\n",
    "    plot(V_s)\n",
    "    show()\n",
    "    \n",
    "    \n",
    "    \n",
    "    \n",
    "resistance(LN_data[0][0],holding_currents[0])"
   ]
  },
  {
   "cell_type": "markdown",
   "metadata": {},
   "source": [
    "#### Membrane Capacitance $C_m$"
   ]
  },
  {
   "cell_type": "markdown",
   "metadata": {},
   "source": [
    "Membrane capacitance can now be calculated from the time constant using $\\tau = R_mCm$. The calculation is contained in the function ``` capacitance```"
   ]
  },
  {
   "cell_type": "code",
   "execution_count": 103,
   "metadata": {
    "collapsed": false,
    "scrolled": true
   },
   "outputs": [
    {
     "data": {
      "text/plain": [
       "6.297231515469349"
      ]
     },
     "execution_count": 103,
     "metadata": {},
     "output_type": "execute_result"
    }
   ],
   "source": [
    "def capacitance(membrane_resistance,time_constant):\n",
    "    \"\"\"\n",
    "    Function to return the membrane capacitance in nano Farads (nF)\n",
    "    \n",
    "    Inputs:\n",
    "    -------\n",
    "    membrane_resistance : float, membrane resistance calculated for a particular sweep (gOhms)\n",
    "    time_constant : float time constant tau for a particular sweep\n",
    "    \n",
    "    Outputs:\n",
    "    membrane capacitance : float, membrane capacitance for a particular sweep (nF)\n",
    "    \"\"\"\n",
    "    \n",
    "    C_m = time_constant/membrane_resistance\n",
    "    return C_m\n",
    "\n",
    "capacitance(resistance(LN_data[0][1],holding_currents[0]),time_constant(LN_data[0][1],stim_start_LN))\n"
   ]
  },
  {
   "cell_type": "markdown",
   "metadata": {},
   "source": [
    "#### Refractory period $t_{ref}$"
   ]
  },
  {
   "cell_type": "markdown",
   "metadata": {},
   "source": [
    "The last important parameter to extract from the data is a value for the refractory period during which no spike is observed. Let's first see the form of a spike train. "
   ]
  },
  {
   "cell_type": "code",
   "execution_count": 115,
   "metadata": {
    "collapsed": false
   },
   "outputs": [
    {
     "data": {
      "image/png": "[encoded data removed]",
      "text/plain": [
       "<matplotlib.figure.Figure at 0x11901f290>"
      ]
     },
     "metadata": {},
     "output_type": "display_data"
    }
   ],
   "source": [
    "figure()\n",
    "plot(LN_data[0][3])\n",
    "show()"
   ]
  },
  {
   "cell_type": "markdown",
   "metadata": {},
   "source": [
    "### Solving the LIF equation"
   ]
  },
  {
   "cell_type": "markdown",
   "metadata": {},
   "source": [
    "Now that we have some model parameters we can go ahead and solve the differential equation to simulate a single spiking neuron using the LIF model, and compare the result to the actual spiking behaviour observed in Jan's data."
   ]
  },
  {
   "cell_type": "code",
   "execution_count": null,
   "metadata": {
    "collapsed": true
   },
   "outputs": [],
   "source": [
    "# initial parameters\n",
    "\n",
    "T = 4 #total time of stimulation (ms) ## 5 for PNs, 4 for LNs\n",
    "dt = 1/20000 #timestep (ms)\n",
    "t_ref = 0 #initial refractory time, \n",
    "time = np.arange(0,T,dt) #array of stimulation time, in terms of timestep\n",
    "t_rest = 0 #initial refractory time\n",
    "\n",
    "# properties of membrane\n",
    "\n",
    "V_m = np.zeros(len(time)) #array of voltage values to be filled (mV)\n",
    "\n",
    "R_m = 50 # have to find using Ohm's law\n",
    "\n",
    "C_m = 30 # \n",
    "\n",
    "tau_m = R_m * C_m #membrane time constant\n",
    "\n",
    "tau_ref = 4 # how to define this well using our data ?\n",
    "\n",
    "V_th = 1 #threshold\n",
    "\n",
    "V_spike = 0.5 #spike delta (mV)\n",
    "\n",
    "#Step stimulus\n",
    "\n",
    "I = 100 # use the info provided by Jan\n",
    "\n"
   ]
  },
  {
   "cell_type": "code",
   "execution_count": null,
   "metadata": {
    "collapsed": true
   },
   "outputs": [],
   "source": [
    "for i, t in enumerate(time): \n",
    "    if t > t_rest:\n",
    "        V_m[i] = V_m[i-1] + (-V_m[i-1] + I*R_m) / tau_m * dt\n",
    "        if V_m[i] >= V_th:\n",
    "            V_m[i] += V_spike\n",
    "            t_rest = t + tau_ref"
   ]
  }
 ],
 "metadata": {
  "kernelspec": {
   "display_name": "Python 2",
   "language": "python",
   "name": "python2"
  },
  "language_info": {
   "codemirror_mode": {
    "name": "ipython",
    "version": 2
   },
   "file_extension": ".py",
   "mimetype": "text/x-python",
   "name": "python",
   "nbconvert_exporter": "python",
   "pygments_lexer": "ipython2",
   "version": "2.7.11"
  }
 },
 "nbformat": 4,
 "nbformat_minor": 0
}
