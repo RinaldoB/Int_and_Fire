{
 "cells": [
  {
   "cell_type": "code",
   "execution_count": 1,
   "metadata": {
    "collapsed": true
   },
   "outputs": [],
   "source": [
    "%matplotlib inline\n",
    "import numpy as np\n",
    "import matplotlib.pyplot as plt\n",
    "import seaborn as sns\n",
    "import cPickle as pickle\n",
    "import gzip \n",
    "from pylab import *\n",
    "from __future__ import division"
   ]
  },
  {
   "cell_type": "markdown",
   "metadata": {},
   "source": [
    "###  Load data"
   ]
  },
  {
   "cell_type": "code",
   "execution_count": 2,
   "metadata": {
    "collapsed": true
   },
   "outputs": [],
   "source": [
    "# Load a list of neuron data\n",
    "PN_data = pickle.load(gzip.open('Data/PNdata.pklz'))\n",
    "pulse_labelsPN = pickle.load(gzip.open('Data/pulselabelsPN.pklz','rb'))\n",
    "number_of_datasetsPN = 5\n",
    "\n",
    "LN_data = pickle.load(gzip.open('Data/LNdata.pklz','rb'))\n",
    "pulse_labelsLN = pickle.load(gzip.open('Data/pulselabelsLN.pklz','rb'))\n",
    "number_of_datasetsLN = 8\n",
    "\n",
    "# Load the holfing currents for LNs \n",
    "holding_currents = array([34,-66,-110,20,-120,-86,-52,-104])"
   ]
  },
  {
   "cell_type": "markdown",
   "metadata": {},
   "source": [
    "#### Important Parameters"
   ]
  },
  {
   "cell_type": "code",
   "execution_count": 3,
   "metadata": {
    "collapsed": true
   },
   "outputs": [],
   "source": [
    "f_s = 20000 #sampling frequency (Hz)\n",
    "dt = 1/float(f_s)\n",
    "\n",
    "\n",
    "stim_start_PN = 3 #seconds\n",
    "stim_end_PN   = 8 #seconds\n",
    "sweep_length_PN = 11 #seconds\n",
    "\n",
    "idx_stim_start_PN = int(stim_start_PN/dt)\n",
    "idx_stim_end_PN =   int(stim_end_PN/dt)\n",
    "\n",
    "sweep_length_LN = 8 #seconds\n",
    "stim_start_LN = 1 #seconds\n",
    "stim_end_LN   = 5 #seconds\n",
    "time_LN = linspace(0,sweep_length_LN,sweep_length_LN*f_s)\n",
    "\n",
    "idx_stim_start_LN = int(stim_start_LN/dt)\n",
    "idx_stim_end_LN =   int(stim_end_LN/dt)"
   ]
  },
  {
   "cell_type": "markdown",
   "metadata": {},
   "source": [
    "### Select Good Neurons"
   ]
  },
  {
   "cell_type": "markdown",
   "metadata": {},
   "source": [
    "#### LNs, with a no-stim sweep and a subthreshold sweep : \n"
   ]
  },
  {
   "cell_type": "code",
   "execution_count": 4,
   "metadata": {
    "collapsed": true
   },
   "outputs": [],
   "source": [
    "# 1st, 2nd, 6th\n",
    "LN_data_sel = ((LN_data[0][0], LN_data[0][1]),\n",
    "               (LN_data[1][0], LN_data[1][1]),\n",
    "               (LN_data[5][0], LN_data[5][1]))\n",
    "LN_data_sel = array(LN_data_sel)"
   ]
  },
  {
   "cell_type": "markdown",
   "metadata": {},
   "source": [
    "#### PNs, subthreshold sweep :"
   ]
  },
  {
   "cell_type": "code",
   "execution_count": 5,
   "metadata": {
    "collapsed": true
   },
   "outputs": [],
   "source": [
    "# 1st, 3rd, 4th\n",
    "PN_data_sel = (PN_data[0][0],PN_data[2][0],PN_data[3][0])\n",
    "\n",
    "PN_data_sel = array(PN_data_sel)\n"
   ]
  },
  {
   "cell_type": "code",
   "execution_count": 6,
   "metadata": {
    "collapsed": false
   },
   "outputs": [
    {
     "name": "stdout",
     "output_type": "stream",
     "text": [
      "(#of sweeps, #number of datapoints)\n",
      "data for PNs\n",
      "(8, 220000)\n",
      "(5, 220000)\n",
      "(7, 220000)\n",
      "(8, 220000)\n",
      "(5, 220000)\n",
      "data for LNs\n",
      "(11, 160000)\n",
      "(15, 160000)\n",
      "(18, 160000)\n",
      "(20, 160000)\n",
      "(8, 160000)\n",
      "(12, 160000)\n",
      "(9, 160000)\n",
      "(10, 160000)\n"
     ]
    }
   ],
   "source": [
    "# Data Structure\n",
    "# print the data for the first PN (array: sweeps x time samples)\n",
    "PN_data[0].shape\n",
    "\n",
    "print '(#of sweeps,','#number of datapoints)'\n",
    "print 'data for PNs'\n",
    "for data in PN_data:\n",
    "    print data.shape\n",
    "    \n",
    "print 'data for LNs'   \n",
    "for data in LN_data:\n",
    "    print data.shape"
   ]
  },
  {
   "cell_type": "markdown",
   "metadata": {},
   "source": [
    "# Contents "
   ]
  },
  {
   "cell_type": "markdown",
   "metadata": {},
   "source": [
    "- [leak potential](#Leak-Potential-$E_l$)\n",
    "- [threshold potential](#Threshold-Potential-$V_{th}$)\n",
    "- [time constant](#Time-Constant-$\\tau_m$)\n",
    "- [membrane resistance](#Membrane-Resistance-$R_m$)\n",
    "- [membrane capacitance](#Membrane-Capacitance-$C_m$)\n",
    "- [leak potential and holding current](#Leak-Potential-$E_l$-&-Holding-Current)"
   ]
  },
  {
   "cell_type": "markdown",
   "metadata": {},
   "source": [
    "### Leaky Integrate and Fire Model (LIF)"
   ]
  },
  {
   "cell_type": "markdown",
   "metadata": {},
   "source": [
    "The leaky integrate and fire model consists of a 1st order inhomogenous differential equation and a fire & reset rule. $$C_m\\frac{dV_m}{dt} = g_l(E_l - V_m) $$\n",
    "\n",
    "1. $C_m$ : membrane capacitance\n",
    "2. $V_m$ : membrane potential\n",
    "3. $g_l$ : membrane conductance ($1/R_m$ - membrane resistance)\n",
    "4. $E_l$ : leak potential (i.e. potential when membrane is at rest)\n",
    "\n",
    "\n",
    "When the membrane voltage exceeds a certain threshold, $V_{th}$, we observe a spike followed by a reset of membrane potential to the reset potential $V_{res}$, followed by a refractory period in which a spike cannot be observed.\n",
    "\n",
    "This allows us to rewrite our differential equation as.\n",
    "\n",
    "$$  \n",
    "    \\frac{dV_m}{dt}=\\left\\{\n",
    "                \\begin{array}{ll}\n",
    "                  \\frac{1}{\\tau_m} (-V_m + IR_m), t>t_{rest}\\\\\n",
    "                  E_l, otherwise\\\\\n",
    "                \\end{array}\n",
    "              \\right.\n",
    "$$\n",
    "\n",
    "with a solution given by.\n",
    "\n",
    "$$V(t) = V_{eq} (1-\\exp({\\frac{-t}{\\tau_m}})) + R_m I ( 1-\\exp({\\frac{-t}{\\tau_m}}))$$\n",
    "\n",
    "for long times this reduces to\n",
    "\n",
    "$$V_h = E_l + R_mI_h $$where $$V(t \\rightarrow \\infty) = V_h $$\n",
    "\n",
    "\n",
    "\n",
    "\n",
    "1. $\\tau_m$ : membrane time constant\n",
    "2. $V_h$ : holding potential\n",
    "3. $I_h$ : holding current\n",
    "\n",
    " \n",
    "To fit a LIF model to Jan's recorded data for LNs and PNs, we need to extract the model parameters. Specifically,\n",
    "\n",
    "1. $V_{th}$\n",
    "2. $V_{res}$\n",
    "3. $\\tau_m$\n",
    "4. $R_m$\n",
    "5. $C_m$"
   ]
  },
  {
   "cell_type": "markdown",
   "metadata": {},
   "source": [
    "### Parameter Extraction\n",
    "\n"
   ]
  },
  {
   "cell_type": "code",
   "execution_count": 8,
   "metadata": {
    "collapsed": true
   },
   "outputs": [],
   "source": [
    "def local_maxima(d):\n",
    "    '''\n",
    "    returns bool array with the same shape as `d` with elements at the position of local maxima in `d` are set to `True`\n",
    "    this function simply checks if the neighbouring elements are smaller or equal and is __sensitive to noise__\n",
    "    '''\n",
    "    return r_[True, d[1:] >= d[:-1]] & r_[d[:-1] > d[1:], True]"
   ]
  },
  {
   "cell_type": "markdown",
   "metadata": {},
   "source": [
    " #### Reset Potential $V_{res}$ & Leak Potential $E_l$"
   ]
  },
  {
   "cell_type": "markdown",
   "metadata": {},
   "source": [
    "__Reset potential__ $V_{res}$ can be calculated from the minimum of the membrane potential after a spike has occurred. We can look at these minimas for a a particular sweep and use them to calculate an average and a standard deviation. Here it is calculated using the ```reset ``` function.\n",
    "\n",
    "\n"
   ]
  },
  {
   "cell_type": "code",
   "execution_count": 9,
   "metadata": {
    "collapsed": true
   },
   "outputs": [],
   "source": [
    "def reset(sweep):\n",
    "    \"\"\"\n",
    "    Function to take an input of a sweep and return an integer value of the mean reset potential for that sweep \n",
    "    along with its standard deviation in mV.\n",
    "    \n",
    "    Inputs:\n",
    "    -------\n",
    "    sweep : array like\n",
    "    \n",
    "    Outputs:\n",
    "    --------\n",
    "    Mean Reset Potential : float\n",
    "    Standard Dev of Reset Potential : float\n",
    "    \n",
    "    \"\"\"\n",
    "    dt = 1/20000 #1/sampling rate (Hz)\n",
    "    th = 0 # use threshold of 0 mV for AP detection. the AP waveform is not very noise so the below works\n",
    "    \n",
    "    V = sweep\n",
    "    V_maxima = (local_maxima(V) & (V>th))\n",
    "    indices = V_maxima.nonzero()[0]\n",
    "    \n",
    "    chunk_list = [] #chunk of spectrum for each action potential\n",
    "    time_list = [] #the times for each action potential\n",
    "\n",
    "    ten_ms = dt*200 #10 ms in terms of dt\n",
    "\n",
    "    ten_ms_idx = int(ten_ms/dt)#10 ms in terms of indices\n",
    "\n",
    "    for index in indices:\n",
    "        start = index-ten_ms_idx\n",
    "        end = index+ten_ms_idx\n",
    "        chunk = V[start:end]\n",
    "        time = np.arange(start,end)\n",
    "        chunk_list.append(chunk)\n",
    "        time_list.append(time)    \n",
    "        \n",
    "    average_waveform = np.mean(chunk_list,axis = 0) #calculating the average waveform by averaging over the chunks\n",
    "\n",
    "    time = len(average_waveform)*dt\n",
    "    time = np.arange(0,time,dt)\n",
    "\n",
    "    reordered_chunks = [[] for x in xrange(len(average_waveform))] \n",
    "\n",
    "    for waveform in range(len(chunk_list)):\n",
    "        for chunk in range(len(average_waveform)):\n",
    "            reordered_chunks[chunk].append(chunk_list[waveform][chunk])\n",
    "\n",
    "    mean_waveform = []\n",
    "    std_dev = []\n",
    "\n",
    "    for chunk in range(len(reordered_chunks)):\n",
    "        mean_waveform.append(np.mean(reordered_chunks[chunk]))\n",
    "        std_dev.append(np.std(reordered_chunks[chunk]))\n",
    "\n",
    "    return float(format(min(mean_waveform),'.3f'))*1e3,float(format(max(std_dev),'.3f'))*1e3\n",
    "    \n",
    "\n"
   ]
  },
  {
   "cell_type": "markdown",
   "metadata": {},
   "source": [
    "### [Leak Potential $E_l$](#Contents)"
   ]
  },
  {
   "cell_type": "markdown",
   "metadata": {},
   "source": [
    "__Leak potential__ $E_l$ can be calculated from the mean of the membrane potential pre-stimulation. Here it is calculated using the ```equilibium ``` function."
   ]
  },
  {
   "cell_type": "markdown",
   "metadata": {},
   "source": [
    "can extend the ```equilibrium ``` function above with the ```mean_equilibrium``` function, which can find the average of the equilibrium potential over all the sweeps of a particular recording.\n",
    "\n"
   ]
  },
  {
   "cell_type": "code",
   "execution_count": 40,
   "metadata": {
    "collapsed": true
   },
   "outputs": [],
   "source": [
    "def equilibrium(sweep,stim_start, dt = 1/20000):\n",
    "    \"\"\"\n",
    "    function that takes a particular sweep as an input, and returns the equilibrium in mV\n",
    "    \n",
    "    Inputs:\n",
    "    -------\n",
    "    sweep : array of a particular sweep (mV)\n",
    "    stim_start : float time at which stimulation started (s)\n",
    "    \n",
    "    Outputs:\n",
    "    --------\n",
    "    mean reset potential : float (mV)\n",
    "    standard deviation of reset potential : float (mV)\n",
    "    mean membrane potential : float (mV)\n",
    "    standard deviation of membrane potential : float (mV)\n",
    "    \n",
    "    \"\"\"\n",
    "\n",
    "    \n",
    "    V = sweep\n",
    "    \n",
    "    idx_stim_start = int(stim_start/dt)\n",
    "\n",
    "    V_sub_before = V[:idx_stim_start]\n",
    "    \n",
    "    return V_sub_before.mean()/1e-3,V_sub_before.std()/1e-3\n",
    "\n",
    "\n",
    "def mean_equilibrium(sweeps,stim_start):\n",
    "    \"\"\"\n",
    "    Function that takes a set of sweeps, or recording, as an input and returns the mean equilibrium potential \n",
    "    over all of the recordings.\n",
    "    \n",
    "    Inputs:\n",
    "    -------\n",
    "    sweeps : sweeps of one neuron (array)\n",
    "    stim_start : time in seconds of when the stimulation starts\n",
    "    \n",
    "    Outputs:\n",
    "    --------\n",
    "    Mean Equilibrium potential : float\n",
    "    Standard Devitation of Equilibrium Potential : float\n",
    "    \n",
    "    \"\"\"\n",
    "    \n",
    "    idx_stim_start = int(stim_start/dt) \n",
    "                \n",
    "    return sweeps[:,:idx_stim_start].mean(), sweeps[:,:idx_stim_start].std()\n",
    "\n"
   ]
  },
  {
   "cell_type": "markdown",
   "metadata": {},
   "source": [
    "### [Threshold Potential $V_{th}$](#Contents)"
   ]
  },
  {
   "cell_type": "markdown",
   "metadata": {},
   "source": [
    "We assume that the threshold is given by the maximum of the derivative of the membrane potential $\\frac{dV_m}{dt}$. We can use the ```threshold``` function to find the threshold for a particular sweep"
   ]
  },
  {
   "cell_type": "code",
   "execution_count": 13,
   "metadata": {
    "collapsed": true
   },
   "outputs": [],
   "source": [
    "def threshold(sweep):\n",
    "    \"\"\"\n",
    "    Function to plot the distributions of the threshold voltage as well as return the mean \n",
    "    value of the threshold for a particular sweep.\n",
    "    \n",
    "    Input:\n",
    "    ------\n",
    "    sweep : an array containing the data for a particular sweep\n",
    "    \n",
    "    Output:\n",
    "    -------\n",
    "    plot : figure displaying frequency distribution of the threshold voltages\n",
    "    Mean Value of threshold : float (mV)\n",
    "    \"\"\"\n",
    "\n",
    "    chunk_list_dash = []\n",
    "    chunk_list_dash_idx = []\n",
    "    V_unmasked = sweep\n",
    "\n",
    "    V = V_unmasked\n",
    "\n",
    "    th = 0 # use threshold of 0 mV for AP detection. the AP waveform is not very noise so the below works\n",
    "    V_maxima = (local_maxima(V) & (V>th))\n",
    "    indices = V_maxima.nonzero()[0]\n",
    "    twenty_ms = dt*400 #20 ms in terms of dt\n",
    "    twenty_ms_idx = int(twenty_ms/dt)#20 ms in terms of indices\n",
    "\n",
    "\n",
    "    chunk_list_dash = []\n",
    "    chunk_list_dash_idx = []\n",
    "\n",
    "    for index in range(len(V)):\n",
    "        if index in indices:\n",
    "            start = index-twenty_ms_idx\n",
    "            end = index+twenty_ms_idx\n",
    "            chunk = V_unmasked[start:end]\n",
    "            chunk = list(chunk)\n",
    "            chunk_idx = np.arange(start,end)\n",
    "            chunk_dash = np.diff(chunk)\n",
    "            chunk_list_dash.append(chunk_dash)\n",
    "            chunk_list_dash_idx.append(chunk_idx)\n",
    "\n",
    "\n",
    "    V_dash_idx = [] #list of derivatives with associated indices for each spike\n",
    "\n",
    "    for chunk_dash in range(len(chunk_list_dash)):\n",
    "        tuples = zip(chunk_list_dash[chunk_dash],chunk_list_dash_idx[chunk_dash])\n",
    "        V_dash_idx.append(tuples)\n",
    "\n",
    "\n",
    "    V_idx = [[] for x in xrange(len(V_dash_idx))]\n",
    "\n",
    "    for V_dash_chunk in range(len(V_dash_idx)):\n",
    "        for step in range(len(V_dash_idx[V_dash_chunk])):\n",
    "            if V_dash_idx[V_dash_chunk][step][0] >= max(chunk_list_dash[V_dash_chunk]):\n",
    "                V_idx[V_dash_chunk].append(V_dash_idx[V_dash_chunk][step][1])\n",
    "\n",
    "\n",
    "\n",
    "    V_idx_first = [] # indices where threshold is crossed according to our condition.\n",
    "\n",
    "    for index_list in range(len(V_idx)):\n",
    "        V_idx_first.append(V_idx[index_list][0])\n",
    "\n",
    "\n",
    "    # now just need to find V values that correspond to the indices in V_idx_first\n",
    "    V_thresh = [] #list to store all the threshold values of V, whenever the above condition is hit\n",
    "\n",
    "    for index in V_idx_first:\n",
    "        V_thresh.append(V_unmasked[index])\n",
    "\n",
    "    spike_number = np.arange(0,71)    \n",
    "\n",
    "    from scipy.stats import norm\n",
    "\n",
    "    plt.figure()\n",
    "    sns.distplot(V_thresh,fit = norm,kde = False)\n",
    "    plt.xlabel('Threshold Voltage (V)')\n",
    "    plt.ylabel('Frequency')\n",
    "    plt.show()\n",
    "\n",
    "    return np.mean(V_thresh)*1e3"
   ]
  },
  {
   "cell_type": "markdown",
   "metadata": {},
   "source": [
    "### [Time Constant $\\tau_m$](#Contents)\n"
   ]
  },
  {
   "cell_type": "markdown",
   "metadata": {},
   "source": [
    "The time constant is calculated from the subthreshold data. We define the time constant to be the time it takes for the membrane potential $V_m$ to reach $1-\\frac{1}{e}$ of its maximum value. Looking at the subthreshold data for the LNs and PNs."
   ]
  },
  {
   "cell_type": "code",
   "execution_count": 15,
   "metadata": {
    "collapsed": false
   },
   "outputs": [
    {
     "data": {
      "image/png": "[encoded data removed]",
      "text/plain": [
       "<matplotlib.figure.Figure at 0x1163a8ed0>"
      ]
     },
     "metadata": {},
     "output_type": "display_data"
    },
    {
     "data": {
      "image/png": "[encoded data removed]",
      "text/plain": [
       "<matplotlib.figure.Figure at 0x11682ecd0>"
      ]
     },
     "metadata": {},
     "output_type": "display_data"
    }
   ],
   "source": [
    "Tpn = 220000*dt\n",
    "Tln = 160000*dt\n",
    "tpn = np.arange(0,Tpn,dt)\n",
    "tln = np.arange(0,Tln,dt)\n",
    "\n",
    "figure()\n",
    "plot(tpn*1e3,PN_data[0][0]*1e3)\n",
    "xlabel('Time (ms)')\n",
    "xlim(0,11000)\n",
    "title('Subthreshold PN example')\n",
    "ylabel('Membrane Potential $V_m$ (mV)')\n",
    "show()\n",
    "\n",
    "figure()\n",
    "plot(tln*1e3,LN_data[0][1]*1e3)\n",
    "xlabel('Time (ms)')\n",
    "ylabel('Membrane Potential $V_m$ (mV)')\n",
    "title('Subthreshold LN example')\n",
    "show()"
   ]
  },
  {
   "cell_type": "markdown",
   "metadata": {},
   "source": [
    "There are clearly some features in the membrane potential over a longer timescale than the time constant, which we expect to be over the order of 10 ms. Therefore to extract the time constant we constant by considering the membrane potential during a much smaller time scale - of the order of 50-60 ms after the beginning of the stimulus. We do this using the ```time_constant``` function."
   ]
  },
  {
   "cell_type": "code",
   "execution_count": 16,
   "metadata": {
    "collapsed": false
   },
   "outputs": [
    {
     "data": {
      "text/plain": [
       "5.45"
      ]
     },
     "execution_count": 16,
     "metadata": {},
     "output_type": "execute_result"
    }
   ],
   "source": [
    "def time_constant(sub_thresh_sweep,stim_start):\n",
    "    \"\"\"\n",
    "    Function to take a subthreshold sweep of either LNs or PNs and return the time constant using the above definition\n",
    "    in ms\n",
    "    \n",
    "    Inputs:\n",
    "    -------\n",
    "    sub_thresh_sweep : an array containing the data for a subthreshold sweep.\n",
    "    stim_start : float, time in seconds of when the stimulus starts\n",
    "    \n",
    "    Outputs:\n",
    "    --------\n",
    "    time_constant : float (ms)\n",
    "    \"\"\"\n",
    "    hundred_ms = 100\n",
    "    idx_hundred_ms = 100/(dt*1e3)\n",
    "    idx_stim_start= int(stim_start/dt)\n",
    "\n",
    "    V = sub_thresh_sweep\n",
    "    \n",
    "    V_time_constant = np.empty_like(V)  #bit of membrane potential which we want to calculate the time constant from\n",
    "    V_time_constant[:] = V\n",
    "    \n",
    "    V_time_constant = V_time_constant[idx_stim_start:int(idx_stim_start+idx_hundred_ms)]\n",
    "    \n",
    "    V_time_constant = V_time_constant-min(V_time_constant)\n",
    "    \n",
    "    # now find the membrane potential which corresponds to time constant\n",
    "\n",
    "    tau_Vm = 0.66 * max(V_time_constant)\n",
    "    \n",
    "    # find the corresponding time for this potential\n",
    "    tau_idx = []\n",
    "    for voltages in range(len(V_time_constant)):\n",
    "        if V_time_constant[voltages] >= tau_Vm:\n",
    "            tau_idx.append(voltages)\n",
    "    \n",
    "    return tau_idx[0]*dt*1e3\n",
    "\n",
    "\n",
    "time_constant(PN_data[0][0],stim_start_PN)"
   ]
  },
  {
   "cell_type": "markdown",
   "metadata": {},
   "source": [
    "### [Membrane Resistance $R_m$](#Contents)"
   ]
  },
  {
   "cell_type": "markdown",
   "metadata": {},
   "source": [
    "The membrane resistance can be calculated in the limit for long times, where the solution to the LIF differential equation reduces to \n",
    "\n",
    "$$V_h = E_l + R_mI_h $$\n",
    "\n",
    "This requires knowledge of the holding current, which we only have access to for the LNs. If we know the holding current, then membrane resistance is simply\n",
    "\n",
    "$$ R_m = \\frac{V_h - E_l}{I_h} = \\frac{\\Delta V}{I_h} $$\n",
    "\n",
    "where $I_h$ is the holding current and $V_h$ is the holding potential. This is before the 50pA depolarising steps are applied. When these are applied the equation goes to\n",
    "\n",
    "$$V_s - V_h = R_m I_s $$\n",
    "\n",
    "$$R_m = \\frac{V_s - V_h}{I_s} $$\n",
    "\n",
    "where the $s$ subscript stands for subthreshold. Using the latter equation we can calculate $R_m$ and subsequently $C_m$ using the time constant. We calculate the $R_m$ using the ```resistance ``` function."
   ]
  },
  {
   "cell_type": "code",
   "execution_count": 75,
   "metadata": {
    "collapsed": true
   },
   "outputs": [],
   "source": [
    "def resistance(V0, subthres_sweep, I_s, tmin, tmax):\n",
    "    \"\"\"\n",
    "    Function to take a subthreshold sweep and return the membrane resistance\n",
    "    \n",
    "    Inputs:\n",
    "    -------\n",
    "    sub_thresh_sweep : single sweep without stimulation (array) [V]\n",
    "    I_s  : subthreshold current (pA)\n",
    "    tmin : float (s) used to define window in which to calculate the subthreshold potential\n",
    "    tmax : float (s) '' '' \n",
    "    V0   : reference potential [V](can find using equilibrium function)\n",
    "    \n",
    "    \n",
    "    Outputs:\n",
    "    --------\n",
    "    membrane resistance in M Ohm: float, membrane resistance\n",
    "    \n",
    "    \"\"\"\n",
    "    \n",
    "    idx_start = int(tmin/dt)\n",
    "    idx_end = int(tmax/dt)\n",
    "    \n",
    "    V_s = subthres_sweep[idx_start:idx_end]\n",
    "    R_m = (V_s.mean() - V0) /I_s #tera Ohm [V/pA]\n",
    "    R_m *= 1e6 #convert to mega Ohm\n",
    "    return R_m"
   ]
  },
  {
   "cell_type": "markdown",
   "metadata": {},
   "source": [
    "checking that the resistance is broadly consistent over different sweeps."
   ]
  },
  {
   "cell_type": "code",
   "execution_count": 35,
   "metadata": {
    "collapsed": false
   },
   "outputs": [
    {
     "name": "stdout",
     "output_type": "stream",
     "text": [
      "Vh: -69.51 mV, R_M: 30.60 MOhm\n",
      "Vh: -69.47 mV, R_M: 30.43 MOhm\n",
      "Vh: -69.54 mV, R_M: 30.97 MOhm\n",
      "Vh: -69.49 mV, R_M: 31.76 MOhm\n",
      "Vh: -69.43 mV, R_M: 33.46 MOhm\n"
     ]
    }
   ],
   "source": [
    "nidx = 5\n",
    "sub_sweeps = (1,2,3,4)\n",
    "\n",
    "nidx = 3\n",
    "sub_sweeps = (1,2,3,4,5)\n",
    "\n",
    "for sweep_idx in sub_sweeps:\n",
    "    Vh = LN_data[nidx][sweep_idx,:idx_stim_start_LN].mean()\n",
    "    R_M = resistance(Vh,LN_data[nidx][sweep_idx],50*sweep_idx,stim_start_LN+2,stim_end_LN)\n",
    "    print 'Vh: {:.2f} mV, R_M: {:.2f} MOhm'.format(Vh*1e3,R_M)    "
   ]
  },
  {
   "cell_type": "markdown",
   "metadata": {},
   "source": [
    "##### print values for different LNs"
   ]
  },
  {
   "cell_type": "code",
   "execution_count": 37,
   "metadata": {
    "collapsed": false
   },
   "outputs": [
    {
     "name": "stdout",
     "output_type": "stream",
     "text": [
      "Vh: -62.16 mV, R_M: 189.02 MOhm\n",
      "Vh: -60.63 mV, R_M: 196.51 MOhm\n",
      "Vh: -61.37 mV, R_M: 225.92 MOhm\n",
      "Vh: -61.20 mV, R_M: 240.72 MOhm\n",
      "Vh: -61.92 mV, R_M: 221.84 MOhm\n"
     ]
    }
   ],
   "source": [
    "sweep_idx = 0 # second sweep usually has a subthres stimulation\n",
    "curr_step = 50 #pA\n",
    "\n",
    "for data in PN_data:\n",
    "    Vh = data[sweep_idx,:idx_stim_start_LN].mean()\n",
    "    R_M = resistance(Vh,data[sweep_idx],curr_step,stim_start_LN+2,stim_end_LN)\n",
    "    print 'Vh: {:.2f} mV, R_M: {:.2f} MOhm'.format(Vh*1e3,R_M)    "
   ]
  },
  {
   "cell_type": "markdown",
   "metadata": {},
   "source": [
    "### [Membrane Capacitance $C_m$](#Contents)"
   ]
  },
  {
   "cell_type": "markdown",
   "metadata": {},
   "source": [
    "Membrane capacitance can now be calculated from the time constant using $\\tau = R_mCm$. The calculation is contained in the function ``` capacitance```"
   ]
  },
  {
   "cell_type": "code",
   "execution_count": 138,
   "metadata": {
    "collapsed": false
   },
   "outputs": [],
   "source": [
    "def capacitance(membrane_resistance,time_constant):\n",
    "    \"\"\"\n",
    "    Function to return the membrane capacitance in nano Farads (nF)\n",
    "    \n",
    "    Inputs:\n",
    "    -------\n",
    "    membrane_resistance : float, membrane resistance calculated for a particular sweep (gOhms)\n",
    "    time_constant : float time constant tau for a particular sweep\n",
    "    \n",
    "    Outputs:\n",
    "    membrane capacitance : float, membrane capacitance for a particular sweep (nF)\n",
    "    \"\"\"\n",
    "    \n",
    "    C_m = time_constant/membrane_resistance\n",
    "    return C_m\n"
   ]
  },
  {
   "cell_type": "code",
   "execution_count": 152,
   "metadata": {
    "collapsed": false
   },
   "outputs": [
    {
     "name": "stdout",
     "output_type": "stream",
     "text": [
      "V_s -0.0668977\n"
     ]
    },
    {
     "data": {
      "text/plain": [
       "1245.7033915584464"
      ]
     },
     "execution_count": 152,
     "metadata": {},
     "output_type": "execute_result"
    }
   ],
   "source": [
    "capacitance(resistance(Vh,LN_data[nidx][1],50*sweep_idx,stim_start_LN+2,stim_end_LN),time_constant(LN_data[nidx][1],stim_start_LN))"
   ]
  },
  {
   "cell_type": "markdown",
   "metadata": {},
   "source": [
    "### [Leak Potential $E_l$ & Holding Current](#Contents)"
   ]
  },
  {
   "cell_type": "markdown",
   "metadata": {},
   "source": [
    "The equilibirum potential $V_{h}$ is approximately -70 mV, however this is after being subject to a holding current. This is done to ensure that different neurons being tested are comparable. We can correct the equilibrium potentials using our knowledge of the holding current in order to find out what they actaully is for the neurons examined.\n",
    "\n",
    "\n",
    "$$V_h = V_{L} + R_mI_h $$\n",
    "\n",
    "$$ V_{L} = V_h - R_mI_h  $$ \n"
   ]
  },
  {
   "cell_type": "code",
   "execution_count": 53,
   "metadata": {
    "collapsed": true
   },
   "outputs": [
    {
     "name": "stdout",
     "output_type": "stream",
     "text": [
      "(-0.069631249, 0.00049357786)\n",
      "(-0.071308218, 0.0022116113)\n",
      "(-0.069785804, 0.0010620955)\n",
      "(-0.069742247, 0.00058150908)\n",
      "(-0.066730991, 0.00025949237)\n",
      "(-0.068096809, 0.0010139332)\n",
      "(-0.067810819, 0.00063142186)\n",
      "(-0.067226626, 0.00049897091)\n"
     ]
    }
   ],
   "source": [
    "#LN averaged holding potentials\n",
    "for sweeps in LN_data:\n",
    "    print mean_equilibrium(sweeps,stim_start_LN)  "
   ]
  },
  {
   "cell_type": "code",
   "execution_count": 54,
   "metadata": {
    "collapsed": true
   },
   "outputs": [
    {
     "name": "stdout",
     "output_type": "stream",
     "text": [
      "(-0.062209204, 0.00021388977)\n",
      "(-0.060010385, 0.00053257373)\n",
      "(-0.061227717, 0.00013420917)\n",
      "(-0.062195785, 0.00065517804)\n",
      "(-0.061672121, 0.00024668168)\n"
     ]
    }
   ],
   "source": [
    "#PN averaged holding potentials\n",
    "for sweeps in PN_data:\n",
    "    print mean_equilibrium(sweeps,stim_start_PN)"
   ]
  },
  {
   "cell_type": "code",
   "execution_count": 65,
   "metadata": {
    "collapsed": true
   },
   "outputs": [
    {
     "data": {
      "text/plain": [
       "<matplotlib.legend.Legend at 0x7fc1857e7a10>"
      ]
     },
     "execution_count": 65,
     "metadata": {},
     "output_type": "execute_result"
    },
    {
     "data": {
      "image/png": "[encoded data removed]",
      "text/plain": [
       "<matplotlib.figure.Figure at 0x7fc1857e7610>"
      ]
     },
     "metadata": {},
     "output_type": "display_data"
    }
   ],
   "source": [
    "for i,sweeps in enumerate(LN_data):\n",
    "    plot(sweeps[:,:idx_stim_start_LN].mean(-1)*1e3, label=i)\n",
    "legend()"
   ]
  },
  {
   "cell_type": "code",
   "execution_count": 67,
   "metadata": {
    "collapsed": true
   },
   "outputs": [],
   "source": [
    "# Get the Leak potentials (apply holding current correction) (single subthreshold sweep)"
   ]
  },
  {
   "cell_type": "code",
   "execution_count": 79,
   "metadata": {
    "collapsed": false
   },
   "outputs": [
    {
     "name": "stdout",
     "output_type": "stream",
     "text": [
      "V_h: -69.45 mV, V_L: -71.61 mV\n",
      "V_h: -69.05 mV, V_L: -71.03 mV\n",
      "V_h: -68.83 mV, V_L: -70.16 mV\n",
      "V_h: -69.51 mV, V_L: -70.55 mV\n",
      "V_h: -66.93 mV, V_L: -76.86 mV\n",
      "V_h: -69.23 mV, V_L: -70.82 mV\n",
      "V_h: -67.42 mV, V_L: -69.44 mV\n",
      "V_h: -67.82 mV, V_L: -69.36 mV\n"
     ]
    }
   ],
   "source": [
    "sweep_idx = 1\n",
    "curr_step = 50 #pA\n",
    "\n",
    "for sweeps in LN_data:    \n",
    "    V_h = sweeps[sweep_idx,:idx_stim_start_LN].mean()\n",
    "    R_m = resistance(V_h, sweeps[sweep_idx], curr_step, stim_start_LN+2, stim_end_LN)\n",
    "    R_m *= 1e6 #convert to Ohm\n",
    "    V_L = V_h - (R_m*holding_currents[nidx]*1e-12)\n",
    "    print 'V_h: {:.2f} mV, V_L: {:.2f} mV'.format(V_h*1e3,V_L*1e3)    "
   ]
  }
 ],
 "metadata": {
  "kernelspec": {
   "display_name": "Python [Root]",
   "language": "python",
   "name": "Python [Root]"
  },
  "language_info": {
   "codemirror_mode": {
    "name": "ipython",
    "version": 2
   },
   "file_extension": ".py",
   "mimetype": "text/x-python",
   "name": "python",
   "nbconvert_exporter": "python",
   "pygments_lexer": "ipython2",
   "version": "2.7.12"
  }
 },
 "nbformat": 4,
 "nbformat_minor": 0
}
